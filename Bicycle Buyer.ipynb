{
 "cells": [
  {
   "cell_type": "code",
   "execution_count": 1,
   "metadata": {},
   "outputs": [],
   "source": [
    "%matplotlib inline\n",
    "import pandas as pd\n",
    "import numpy as np\n",
    "from datetime import datetime\n",
    "import seaborn as sns\n",
    "import matplotlib.pyplot as plt"
   ]
  },
  {
   "cell_type": "code",
   "execution_count": 2,
   "metadata": {},
   "outputs": [
    {
     "name": "stdout",
     "output_type": "stream",
     "text": [
      "(16519, 23)\n"
     ]
    }
   ],
   "source": [
    "# load first dataset\n",
    "AdvWorksCusts = pd.read_csv('AdventureWorks/AdvWorksCusts.csv')\n",
    "print(AdvWorksCusts.shape)"
   ]
  },
  {
   "cell_type": "code",
   "execution_count": 5,
   "metadata": {},
   "outputs": [
    {
     "name": "stdout",
     "output_type": "stream",
     "text": [
      "(16519, 2)\n"
     ]
    }
   ],
   "source": [
    "# load second dataset\n",
    "AW_AveMonthSpend = pd.read_csv('AdventureWorks/AW_AveMonthSpend.csv')\n",
    "print(AW_AveMonthSpend.shape)"
   ]
  },
  {
   "cell_type": "code",
   "execution_count": 7,
   "metadata": {},
   "outputs": [
    {
     "name": "stdout",
     "output_type": "stream",
     "text": [
      "(16519, 2)\n"
     ]
    }
   ],
   "source": [
    "# load third dataset\n",
    "AW_BikeBuyer = pd.read_csv('AdventureWorks/AW_BikeBuyer.csv')\n",
    "print(AW_BikeBuyer.shape)"
   ]
  },
  {
   "cell_type": "code",
   "execution_count": 8,
   "metadata": {},
   "outputs": [
    {
     "name": "stdout",
     "output_type": "stream",
     "text": [
      "(16749, 24)\n",
      "       CustomerID Title  FirstName MiddleName LastName Suffix  \\\n",
      "0           11000   NaN        Jon          V     Yang    NaN   \n",
      "1           11001   NaN     Eugene          L    Huang    NaN   \n",
      "2           11002   NaN      Ruben        NaN   Torres    NaN   \n",
      "3           11003   NaN    Christy        NaN      Zhu    NaN   \n",
      "4           11004   NaN  Elizabeth        NaN  Johnson    NaN   \n",
      "...           ...   ...        ...        ...      ...    ...   \n",
      "17204       29478   NaN     Darren          D  Carlson    NaN   \n",
      "17205       29479   NaN      Tommy          L     Tang    NaN   \n",
      "17206       29480   NaN       Nina          W     Raji    NaN   \n",
      "17207       29481   NaN       Ivan        NaN     Suri    NaN   \n",
      "17208       29482   NaN    Clayton        NaN    Zhang    NaN   \n",
      "\n",
      "                 AddressLine1 AddressLine2            City  StateProvinceName  \\\n",
      "0             3761 N. 14th St          NaN     Rockhampton         Queensland   \n",
      "1                  2243 W St.          NaN         Seaford           Victoria   \n",
      "2            5844 Linden Land          NaN          Hobart           Tasmania   \n",
      "3            1825 Village Pl.          NaN      North Ryde    New South Wales   \n",
      "4         7553 Harness Circle          NaN      Wollongong    New South Wales   \n",
      "...                       ...          ...             ...                ...   \n",
      "17204        5240 Premier Pl.          NaN  Stoke-on-Trent            England   \n",
      "17205       111, rue Maillard          NaN      Versailles            Yveline   \n",
      "17206       9 Katherine Drive          NaN          London            England   \n",
      "17207             Knaackstr 4          NaN             Hof             Bayern   \n",
      "17208  1080, quai de Grenelle          NaN      Saint Ouen  Charente-Maritime   \n",
      "\n",
      "       ...    Occupation Gender MaritalStatus HomeOwnerFlag NumberCarsOwned  \\\n",
      "0      ...  Professional      M             M             1               0   \n",
      "1      ...  Professional      M             S             0               1   \n",
      "2      ...  Professional      M             M             1               1   \n",
      "3      ...  Professional      F             S             0               1   \n",
      "4      ...  Professional      F             S             1               4   \n",
      "...    ...           ...    ...           ...           ...             ...   \n",
      "17204  ...      Clerical      M             S             1               0   \n",
      "17205  ...      Clerical      M             M             1               0   \n",
      "17206  ...      Clerical      F             S             1               0   \n",
      "17207  ...      Clerical      M             S             0               0   \n",
      "17208  ...      Clerical      M             M             1               0   \n",
      "\n",
      "      NumberChildrenAtHome TotalChildren YearlyIncome  AveMonthSpend  \\\n",
      "0                        0             2       137947             89   \n",
      "1                        3             3       101141            117   \n",
      "2                        3             3        91945            123   \n",
      "3                        0             0        86688             50   \n",
      "4                        5             5        92771             95   \n",
      "...                    ...           ...          ...            ...   \n",
      "17204                    0             3        45986             65   \n",
      "17205                    0             1        80049             77   \n",
      "17206                    0             3        60417             48   \n",
      "17207                    0             3        66653             65   \n",
      "17208                    0             3        59736             72   \n",
      "\n",
      "       BikeBuyer  \n",
      "0              0  \n",
      "1              1  \n",
      "2              0  \n",
      "3              0  \n",
      "4              1  \n",
      "...          ...  \n",
      "17204          0  \n",
      "17205          0  \n",
      "17206          1  \n",
      "17207          0  \n",
      "17208          0  \n",
      "\n",
      "[17209 rows x 25 columns]\n"
     ]
    }
   ],
   "source": [
    "# merge all datasets\n",
    "df = AdvWorksCusts.merge(AW_AveMonthSpend, on='CustomerID')\n",
    "print(df.shape)\n",
    "df = df.merge(AW_BikeBuyer, on='CustomerID')\n",
    "print(df)"
   ]
  },
  {
   "cell_type": "code",
   "execution_count": 7,
   "metadata": {},
   "outputs": [
    {
     "name": "stdout",
     "output_type": "stream",
     "text": [
      "Index(['CustomerID', 'Title', 'FirstName', 'MiddleName', 'LastName', 'Suffix',\n",
      "       'AddressLine1', 'AddressLine2', 'City', 'StateProvinceName',\n",
      "       'CountryRegionName', 'PostalCode', 'PhoneNumber', 'BirthDate',\n",
      "       'Education', 'Occupation', 'Gender', 'MaritalStatus', 'HomeOwnerFlag',\n",
      "       'NumberCarsOwned', 'NumberChildrenAtHome', 'TotalChildren',\n",
      "       'YearlyIncome', 'AveMonthSpend', 'BikeBuyer'],\n",
      "      dtype='object')\n"
     ]
    }
   ],
   "source": [
    "# retrieve all columns\n",
    "cols = df.columns\n",
    "print(cols)"
   ]
  },
  {
   "cell_type": "code",
   "execution_count": 8,
   "metadata": {},
   "outputs": [
    {
     "name": "stdout",
     "output_type": "stream",
     "text": [
      "\n",
      "Columns with missing values\n",
      "Title           True\n",
      "MiddleName      True\n",
      "Suffix          True\n",
      "AddressLine2    True\n",
      "dtype: bool\n"
     ]
    }
   ],
   "source": [
    "# check for columns with missing values\n",
    "print(\"\\nColumns with missing values\")\n",
    "print(df.isna().any()[lambda x:x])"
   ]
  },
  {
   "cell_type": "code",
   "execution_count": 9,
   "metadata": {},
   "outputs": [
    {
     "name": "stdout",
     "output_type": "stream",
     "text": [
      "\n",
      "Columns with missing value and counts\n",
      "             \tNull \tNot Null\n",
      "Title        \t17121 \t88\n",
      "MiddleName   \t7189 \t10020\n",
      "Suffix       \t17207 \t2\n",
      "AddressLine2 \t16918 \t291\n"
     ]
    }
   ],
   "source": [
    "print(\"\\nColumns with missing value and counts\")\n",
    "print(\"{0:12} \\t{1} \\t{2}\".format('', 'Null', 'Not Null'))\n",
    "for column in df :\n",
    "    if df[column].isnull().any() :\n",
    "        print(\"{0:12} \\t{1} \\t{2}\"\n",
    "              .format(column, df[column].isnull().sum(), \n",
    "                      df.shape[0] - df[column].isnull().sum()))"
   ]
  },
  {
   "cell_type": "code",
   "execution_count": 10,
   "metadata": {},
   "outputs": [
    {
     "name": "stdout",
     "output_type": "stream",
     "text": [
      "\tRemoving duplicates and keeping the recent records\n",
      "Before: \t(17209, 25)\n",
      "After: \t\t(16404, 25)\n",
      "Unique: \t(16404,)\n"
     ]
    }
   ],
   "source": [
    "# remove duplicates and keep recent records\n",
    "print(\"\\tRemoving duplicates and keeping the recent records\")\n",
    "print(\"{0}\\t{1}\".format('Before: ', df.shape))\n",
    "df.drop_duplicates(subset='CustomerID', keep='last', inplace=True)\n",
    "print(\"{0}\\t\\t{1}\".format('After: ', df.shape))\n",
    "print(\"{0}\\t{1}\".format('Unique: ', df.CustomerID.unique().shape))"
   ]
  },
  {
   "cell_type": "code",
   "execution_count": 11,
   "metadata": {},
   "outputs": [
    {
     "name": "stdout",
     "output_type": "stream",
     "text": [
      "\tSummary Statistics\n",
      "\n",
      "       AveMonthSpend\n",
      "count   16404.000000\n",
      "mean       72.391002\n",
      "std        27.269921\n",
      "min        22.000000\n",
      "25%        52.000000\n",
      "50%        68.000000\n",
      "75%        84.000000\n",
      "max       176.000000\n"
     ]
    }
   ],
   "source": [
    "# summary statistics\n",
    "print(\"\\tSummary Statistics\")\n",
    "print()\n",
    "print(df[['AveMonthSpend']].describe())"
   ]
  },
  {
   "cell_type": "code",
   "execution_count": 12,
   "metadata": {},
   "outputs": [
    {
     "name": "stdout",
     "output_type": "stream",
     "text": [
      "\tBike Buyer\n",
      "\n",
      "0    10949\n",
      "1     5455\n",
      "Name: BikeBuyer, dtype: int64\n"
     ]
    }
   ],
   "source": [
    "# bike buyer\n",
    "print(\"\\tBike Buyer\")\n",
    "print()\n",
    "bike_buyer = df['BikeBuyer'].value_counts()\n",
    "print(bike_buyer)"
   ]
  },
  {
   "cell_type": "code",
   "execution_count": 13,
   "metadata": {},
   "outputs": [
    {
     "name": "stdout",
     "output_type": "stream",
     "text": [
      "\tMedian YearlyIncome by Occupation\n",
      "\n",
      "                YearlyIncome\n",
      "Occupation                  \n",
      "Manual               21722.0\n",
      "Clerical             49481.0\n",
      "Skilled Manual       66471.5\n",
      "Professional         99058.0\n",
      "Management          118781.0\n"
     ]
    }
   ],
   "source": [
    "# ranks the median YearlyIncome by Occupation\n",
    "print(\"\\tMedian YearlyIncome by Occupation\")\n",
    "print()\n",
    "print(df[['Occupation', 'YearlyIncome']]\n",
    "      .groupby('Occupation').median()\n",
    "      .sort_values(by='YearlyIncome'))"
   ]
  },
  {
   "cell_type": "code",
   "execution_count": 20,
   "metadata": {},
   "outputs": [
    {
     "name": "stdout",
     "output_type": "stream",
     "text": [
      "2019-12-04\n",
      "2019\n"
     ]
    },
    {
     "data": {
      "text/html": [
       "<div>\n",
       "<style scoped>\n",
       "    .dataframe tbody tr th:only-of-type {\n",
       "        vertical-align: middle;\n",
       "    }\n",
       "\n",
       "    .dataframe tbody tr th {\n",
       "        vertical-align: top;\n",
       "    }\n",
       "\n",
       "    .dataframe thead th {\n",
       "        text-align: right;\n",
       "    }\n",
       "</style>\n",
       "<table border=\"1\" class=\"dataframe\">\n",
       "  <thead>\n",
       "    <tr style=\"text-align: right;\">\n",
       "      <th></th>\n",
       "      <th>FirstName</th>\n",
       "      <th>BirthDate</th>\n",
       "      <th>Age</th>\n",
       "    </tr>\n",
       "  </thead>\n",
       "  <tbody>\n",
       "    <tr>\n",
       "      <td>0</td>\n",
       "      <td>Jon</td>\n",
       "      <td>1966-04-08</td>\n",
       "      <td>53</td>\n",
       "    </tr>\n",
       "    <tr>\n",
       "      <td>1</td>\n",
       "      <td>Eugene</td>\n",
       "      <td>1965-05-14</td>\n",
       "      <td>54</td>\n",
       "    </tr>\n",
       "    <tr>\n",
       "      <td>2</td>\n",
       "      <td>Ruben</td>\n",
       "      <td>1965-08-12</td>\n",
       "      <td>54</td>\n",
       "    </tr>\n",
       "    <tr>\n",
       "      <td>3</td>\n",
       "      <td>Christy</td>\n",
       "      <td>1968-02-15</td>\n",
       "      <td>51</td>\n",
       "    </tr>\n",
       "    <tr>\n",
       "      <td>4</td>\n",
       "      <td>Elizabeth</td>\n",
       "      <td>1968-08-08</td>\n",
       "      <td>51</td>\n",
       "    </tr>\n",
       "    <tr>\n",
       "      <td>5</td>\n",
       "      <td>Julio</td>\n",
       "      <td>1965-08-05</td>\n",
       "      <td>54</td>\n",
       "    </tr>\n",
       "    <tr>\n",
       "      <td>6</td>\n",
       "      <td>Janet</td>\n",
       "      <td>1965-12-06</td>\n",
       "      <td>54</td>\n",
       "    </tr>\n",
       "    <tr>\n",
       "      <td>7</td>\n",
       "      <td>Marco</td>\n",
       "      <td>1964-05-09</td>\n",
       "      <td>55</td>\n",
       "    </tr>\n",
       "    <tr>\n",
       "      <td>8</td>\n",
       "      <td>Rob</td>\n",
       "      <td>1964-07-07</td>\n",
       "      <td>55</td>\n",
       "    </tr>\n",
       "    <tr>\n",
       "      <td>9</td>\n",
       "      <td>Shannon</td>\n",
       "      <td>1964-04-01</td>\n",
       "      <td>55</td>\n",
       "    </tr>\n",
       "  </tbody>\n",
       "</table>\n",
       "</div>"
      ],
      "text/plain": [
       "   FirstName   BirthDate  Age\n",
       "0        Jon  1966-04-08   53\n",
       "1     Eugene  1965-05-14   54\n",
       "2      Ruben  1965-08-12   54\n",
       "3    Christy  1968-02-15   51\n",
       "4  Elizabeth  1968-08-08   51\n",
       "5      Julio  1965-08-05   54\n",
       "6      Janet  1965-12-06   54\n",
       "7      Marco  1964-05-09   55\n",
       "8        Rob  1964-07-07   55\n",
       "9    Shannon  1964-04-01   55"
      ]
     },
     "execution_count": 20,
     "metadata": {},
     "output_type": "execute_result"
    }
   ],
   "source": [
    "# calculate Age\n",
    "today = pd.to_datetime(datetime.today()).year\n",
    "today = datetime.today().strftime(\"%Y-%m-%d\")\n",
    "print(today)\n",
    "print(pd.to_datetime(today).year)\n",
    "df['Age'] = df.loc[:,'BirthDate'].apply(lambda x : (pd.to_datetime(today).year-pd.to_datetime(datetime.strptime(x.strip(), \"%Y-%m-%d\")).year))\n",
    "df[['FirstName', 'BirthDate', 'Age']].head(10)"
   ]
  },
  {
   "cell_type": "code",
   "execution_count": 12,
   "metadata": {},
   "outputs": [
    {
     "name": "stdout",
     "output_type": "stream",
     "text": [
      "Gender\n"
     ]
    },
    {
     "data": {
      "image/png": "[encoded data removed]",
      "text/plain": [
       "<Figure size 720x288 with 2 Axes>"
      ]
     },
     "metadata": {
      "needs_background": "light"
     },
     "output_type": "display_data"
    },
    {
     "name": "stdout",
     "output_type": "stream",
     "text": [
      "Occupation\n"
     ]
    },
    {
     "data": {
      "image/png": "[encoded data removed]",
      "text/plain": [
       "<Figure size 720x288 with 2 Axes>"
      ]
     },
     "metadata": {
      "needs_background": "light"
     },
     "output_type": "display_data"
    },
    {
     "name": "stdout",
     "output_type": "stream",
     "text": [
      "MaritalStatus\n"
     ]
    },
    {
     "data": {
      "image/png": "[encoded data removed]",
      "text/plain": [
       "<Figure size 720x288 with 2 Axes>"
      ]
     },
     "metadata": {
      "needs_background": "light"
     },
     "output_type": "display_data"
    }
   ],
   "source": [
    "# get the columns for plotting\n",
    "num_cols = ['Gender', 'Occupation', 'MaritalStatus']\n",
    "\n",
    "# plot for bike buyer\n",
    "df['dummy'] = np.ones(shape = df.shape[0])\n",
    "for col in num_cols :\n",
    "    print(col)\n",
    "    counts = df[['dummy', 'BikeBuyer', col]].groupby(['BikeBuyer', col], as_index = False).count()\n",
    "    temp = counts[counts['BikeBuyer'] == 0][[col, 'dummy']]\n",
    "    plt.figure(figsize = (10,4))\n",
    "    plt.subplot(1, 2, 1)\n",
    "    temp = counts[counts['BikeBuyer'] == 0][[col, 'dummy']]\n",
    "    plt.bar(temp[col], temp.dummy)\n",
    "    plt.xticks(rotation=90)\n",
    "    plt.title(\"Counts for \" + col + \"\\nNot Buyer\")\n",
    "    plt.ylabel(\"count\")\n",
    "    plt.subplot(1, 2, 2)\n",
    "    temp = counts[counts['BikeBuyer'] == 1][[col, 'dummy']]\n",
    "    plt.bar(temp[col], temp.dummy)\n",
    "    plt.xticks(rotation=0)\n",
    "    plt.title(\"Counts for \" + col + \"\\nBike Buyer\")\n",
    "    plt.ylabel(\"count\")\n",
    "    plt.show()"
   ]
  },
  {
   "cell_type": "code",
   "execution_count": null,
   "metadata": {},
   "outputs": [],
   "source": []
  }
 ],
 "metadata": {
  "kernelspec": {
   "display_name": "Python 3",
   "language": "python",
   "name": "python3"
  },
  "language_info": {
   "codemirror_mode": {
    "name": "ipython",
    "version": 3
   },
   "file_extension": ".py",
   "mimetype": "text/x-python",
   "name": "python",
   "nbconvert_exporter": "python",
   "pygments_lexer": "ipython3",
   "version": "3.7.4"
  }
 },
 "nbformat": 4,
 "nbformat_minor": 2
}
