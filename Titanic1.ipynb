{
 "cells": [
  {
   "cell_type": "code",
   "execution_count": 20,
   "metadata": {},
   "outputs": [],
   "source": [
    "%matplotlib inline\n",
    "import pandas as pd\n",
    "import numpy as np\n",
    "from datetime import datetime\n",
    "import seaborn as sns\n",
    "import matplotlib.pyplot as plt\n"
   ]
  },
  {
   "cell_type": "code",
   "execution_count": 21,
   "metadata": {},
   "outputs": [
    {
     "name": "stdout",
     "output_type": "stream",
     "text": [
      "     PassengerId  Survived  Pclass     Sex Embarked\n",
      "0              1         0       3    male        S\n",
      "1              2         1       1  female        C\n",
      "2              3         1       3  female        S\n",
      "3              4         1       1  female        S\n",
      "4              5         0       3    male        S\n",
      "..           ...       ...     ...     ...      ...\n",
      "886          887         0       2    male        S\n",
      "887          888         1       1  female        S\n",
      "888          889         0       3  female        S\n",
      "889          890         1       1    male        C\n",
      "890          891         0       3    male        Q\n",
      "\n",
      "[891 rows x 5 columns]\n"
     ]
    }
   ],
   "source": [
    "train = pd.read_csv(\"datasets/titanic/train.csv\",usecols=['PassengerId','Survived','Pclass','Sex','Embarked'])\n",
    "print(train)"
   ]
  },
  {
   "cell_type": "code",
   "execution_count": 22,
   "metadata": {},
   "outputs": [
    {
     "name": "stdout",
     "output_type": "stream",
     "text": [
      "Embarked    True\n",
      "dtype: bool\n"
     ]
    }
   ],
   "source": [
    "print(train.isna().any()[lambda x:x])"
   ]
  },
  {
   "cell_type": "code",
   "execution_count": 23,
   "metadata": {},
   "outputs": [
    {
     "name": "stdout",
     "output_type": "stream",
     "text": [
      "\n",
      "Columns with missing value and counts\n",
      "             \tNull \tNot Null\n",
      "Embarked     \t2 \t889\n"
     ]
    }
   ],
   "source": [
    "print(\"\\nColumns with missing value and counts\")\n",
    "print(\"{0:12} \\t{1} \\t{2}\".format('', 'Null', 'Not Null'))\n",
    "for column in train :\n",
    "    if train[column].isnull().any() :\n",
    "        print(\"{0:12} \\t{1} \\t{2}\"\n",
    "              .format(column, train[column].isnull().sum(), \n",
    "                      train.shape[0] - train[column].isnull().sum()))"
   ]
  },
  {
   "cell_type": "code",
   "execution_count": 24,
   "metadata": {},
   "outputs": [
    {
     "name": "stdout",
     "output_type": "stream",
     "text": [
      "                                 PassengerId\n",
      "Survived Embarked Sex    Pclass             \n",
      "0        C        female 1                 1\n",
      "                         3                 8\n",
      "                  male   1                25\n",
      "                         2                 8\n",
      "                         3                33\n",
      "         Q        female 3                 9\n",
      "                  male   1                 1\n",
      "                         2                 1\n",
      "                         3                36\n",
      "         S        female 1                 2\n",
      "                         2                 6\n",
      "                         3                55\n",
      "                  male   1                51\n",
      "                         2                82\n",
      "                         3               231\n",
      "1        C        female 1                42\n",
      "                         2                 7\n",
      "                         3                15\n",
      "                  male   1                17\n",
      "                         2                 2\n",
      "                         3                10\n",
      "         Q        female 1                 1\n",
      "                         2                 2\n",
      "                         3                24\n",
      "                  male   3                 3\n",
      "         S        female 1                46\n",
      "                         2                61\n",
      "                         3                33\n",
      "                  male   1                28\n",
      "                         2                15\n",
      "                         3                34\n"
     ]
    }
   ],
   "source": [
    "print(train[['PassengerId','Survived','Embarked','Sex','Pclass']].groupby(['Survived','Embarked','Sex','Pclass']).count())"
   ]
  },
  {
   "cell_type": "code",
   "execution_count": 25,
   "metadata": {},
   "outputs": [],
   "source": [
    "def add_annotation(splot) :\n",
    "    # to add annotation\n",
    "    for p in splot.patches:\n",
    "        splot.annotate(format(p.get_height(), '.0f'), \n",
    "                       (p.get_x() + p.get_width() / 2., \n",
    "                        p.get_height()), ha = 'center', \n",
    "                       va = 'center', xytext = (0, 10), \n",
    "                       textcoords = 'offset points')"
   ]
  },
  {
   "cell_type": "code",
   "execution_count": 30,
   "metadata": {},
   "outputs": [
    {
     "data": {
      "image/png": "[encoded data removed]",
      "text/plain": [
       "<Figure size 1152x1080 with 4 Axes>"
      ]
     },
     "metadata": {
      "needs_background": "light"
     },
     "output_type": "display_data"
    }
   ],
   "source": [
    "fig, axes = plt.subplots(2,2,figsize=(16,15))\n",
    "splot = sns.countplot('Survived', data=train, ax=axes[0,0])\n",
    "add_annotation(splot)\n",
    "splot = sns.countplot('Pclass', data=train, ax=axes[0,1])\n",
    "add_annotation(splot)\n",
    "splot = sns.countplot('Sex', data=train, ax=axes[1,0])\n",
    "add_annotation(splot)\n",
    "splot = sns.countplot('Embarked', data=train, ax=axes[1,1])\n",
    "add_annotation(splot)"
   ]
  },
  {
   "cell_type": "code",
   "execution_count": null,
   "metadata": {},
   "outputs": [],
   "source": []
  }
 ],
 "metadata": {
  "kernelspec": {
   "display_name": "Python 3",
   "language": "python",
   "name": "python3"
  },
  "language_info": {
   "codemirror_mode": {
    "name": "ipython",
    "version": 3
   },
   "file_extension": ".py",
   "mimetype": "text/x-python",
   "name": "python",
   "nbconvert_exporter": "python",
   "pygments_lexer": "ipython3",
   "version": "3.7.4"
  }
 },
 "nbformat": 4,
 "nbformat_minor": 2
}
