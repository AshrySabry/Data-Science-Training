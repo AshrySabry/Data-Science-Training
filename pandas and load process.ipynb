{
 "cells": [
  {
   "cell_type": "code",
   "execution_count": 2,
   "metadata": {},
   "outputs": [],
   "source": [
    "%matplotlib inline\n",
    "import pandas as pd\n",
    "import numpy as np"
   ]
  },
  {
   "cell_type": "code",
   "execution_count": 5,
   "metadata": {},
   "outputs": [
    {
     "name": "stdout",
     "output_type": "stream",
     "text": [
      "                                   report\n",
      "abs_humidity                         None\n",
      "atmo_opacity                        Sunny\n",
      "ls                                    296\n",
      "max_temp                               -1\n",
      "max_temp_fahrenheit                  30.2\n",
      "min_temp                              -72\n",
      "min_temp_fahrenheit                 -97.6\n",
      "pressure                              869\n",
      "pressure_string                    Higher\n",
      "season                           Month 10\n",
      "sol                                  1576\n",
      "sunrise              2017-01-11T12:31:00Z\n",
      "sunset               2017-01-12T00:46:00Z\n",
      "terrestrial_date               2017-01-11\n",
      "wind_direction                         --\n",
      "wind_speed                           None\n"
     ]
    }
   ],
   "source": [
    "# read the json file\n",
    "mars = pd.read_json(\"data/mars_data_01.json\")\n",
    "print(mars)"
   ]
  },
  {
   "cell_type": "code",
   "execution_count": 6,
   "metadata": {},
   "outputs": [
    {
     "name": "stdout",
     "output_type": "stream",
     "text": [
      "   Notes     State  State Code Month Day, Year Month Day, Year Code  \\\n",
      "0    NaN  Illinois          17    Jan 01, 1979           1979/01/01   \n",
      "1    NaN  Illinois          17    Jan 02, 1979           1979/01/02   \n",
      "2    NaN  Illinois          17    Jan 03, 1979           1979/01/03   \n",
      "3    NaN  Illinois          17    Jan 04, 1979           1979/01/04   \n",
      "4    NaN  Illinois          17    May 15, 1979           1979/05/15   \n",
      "5    NaN  Illinois          17    May 16, 1979           1979/05/16   \n",
      "6    NaN  Illinois          17    May 17, 1979           1979/05/17   \n",
      "7    NaN  Illinois          17    May 18, 1979           1979/05/18   \n",
      "8    NaN  Illinois          17    May 19, 1979           1979/05/19   \n",
      "\n",
      "   Avg Daily Max Air Temperature (F)  Record Count for Daily Max Air Temp (F)  \\\n",
      "0                              17.48                                      994   \n",
      "1                               4.64                                      994   \n",
      "2                              11.05                                      994   \n",
      "3                               9.51                                      994   \n",
      "4                              68.42                                      994   \n",
      "5                              70.29                                      994   \n",
      "6                              75.34                                      994   \n",
      "7                              79.13                                      994   \n",
      "8                              74.94                                      994   \n",
      "\n",
      "   Min Temp for Daily Max Air Temp (F)  Max Temp for Daily Max Air Temp (F)  \\\n",
      "0                                  6.0                                 30.5   \n",
      "1                                 -6.4                                 15.8   \n",
      "2                                 -0.7                                 24.7   \n",
      "3                                  0.2                                 27.6   \n",
      "4                                 61.0                                 75.1   \n",
      "5                                 63.4                                 73.5   \n",
      "6                                 64.0                                 80.5   \n",
      "7                                 75.5                                 82.1   \n",
      "8                                 66.9                                 83.1   \n",
      "\n",
      "   Avg Daily Min Air Temperature (F)  Record Count for Daily Min Air Temp (F)  \\\n",
      "0                               2.89                                      994   \n",
      "1                              -9.03                                      994   \n",
      "2                              -2.17                                      994   \n",
      "3                              -0.43                                      994   \n",
      "4                              51.30                                      994   \n",
      "5                              48.09                                      994   \n",
      "6                              50.84                                      994   \n",
      "7                              55.68                                      994   \n",
      "8                              58.59                                      994   \n",
      "\n",
      "   Min Temp for Daily Min Air Temp (F)  Max Temp for Daily Min Air Temp (F)  \\\n",
      "0                                -13.6                                 15.8   \n",
      "1                                -23.6                                  6.6   \n",
      "2                                -18.3                                 12.9   \n",
      "3                                -16.3                                 16.3   \n",
      "4                                 43.3                                 57.0   \n",
      "5                                 41.1                                 53.0   \n",
      "6                                 44.3                                 55.7   \n",
      "7                                 50.0                                 61.1   \n",
      "8                                 50.9                                 63.2   \n",
      "\n",
      "  Avg Daily Max Heat Index (F)  Record Count for Daily Max Heat Index (F)  \\\n",
      "0                      Missing                                          0   \n",
      "1                      Missing                                          0   \n",
      "2                      Missing                                          0   \n",
      "3                      Missing                                          0   \n",
      "4                      Missing                                          0   \n",
      "5                      Missing                                          0   \n",
      "6                        82.60                                          2   \n",
      "7                        81.42                                        349   \n",
      "8                        82.87                                         78   \n",
      "\n",
      "  Min for Daily Max Heat Index (F) Max for Daily Max Heat Index (F)  \\\n",
      "0                          Missing                          Missing   \n",
      "1                          Missing                          Missing   \n",
      "2                          Missing                          Missing   \n",
      "3                          Missing                          Missing   \n",
      "4                          Missing                          Missing   \n",
      "5                          Missing                          Missing   \n",
      "6                            82.40                            82.80   \n",
      "7                            80.20                            83.40   \n",
      "8                            81.60                            85.20   \n",
      "\n",
      "  Daily Max Heat Index (F) % Coverage  \n",
      "0                               0.00%  \n",
      "1                               0.00%  \n",
      "2                               0.00%  \n",
      "3                               0.00%  \n",
      "4                               0.00%  \n",
      "5                               0.00%  \n",
      "6                               0.20%  \n",
      "7                              35.11%  \n",
      "8                               7.85%  \n"
     ]
    }
   ],
   "source": [
    "# read the csv\n",
    "temp = pd.read_csv(\"data/temp_data_01.csv\")\n",
    "print(temp)"
   ]
  },
  {
   "cell_type": "code",
   "execution_count": 7,
   "metadata": {},
   "outputs": [
    {
     "name": "stdout",
     "output_type": "stream",
     "text": [
      "   Notes     State  State Code Month Day, Year Month Day, Year Code  \\\n",
      "0    NaN  Illinois          17    Jan 01, 1979           1979/01/01   \n",
      "1    NaN  Illinois          17    Jan 02, 1979           1979/01/02   \n",
      "2    NaN  Illinois          17    Jan 03, 1979           1979/01/03   \n",
      "3    NaN  Illinois          17    Jan 04, 1979           1979/01/04   \n",
      "4    NaN  Illinois          17    May 15, 1979           1979/05/15   \n",
      "5    NaN  Illinois          17    May 16, 1979           1979/05/16   \n",
      "6    NaN  Illinois          17    May 17, 1979           1979/05/17   \n",
      "7    NaN  Illinois          17    May 18, 1979           1979/05/18   \n",
      "8    NaN  Illinois          17    May 19, 1979           1979/05/19   \n",
      "\n",
      "   Avg Daily Max Air Temperature (F)  Record Count for Daily Max Air Temp (F)  \\\n",
      "0                              17.48                                      994   \n",
      "1                               4.64                                      994   \n",
      "2                              11.05                                      994   \n",
      "3                               9.51                                      994   \n",
      "4                              68.42                                      994   \n",
      "5                              70.29                                      994   \n",
      "6                              75.34                                      994   \n",
      "7                              79.13                                      994   \n",
      "8                              74.94                                      994   \n",
      "\n",
      "   Min Temp for Daily Max Air Temp (F)  Max Temp for Daily Max Air Temp (F)  \\\n",
      "0                                  6.0                                 30.5   \n",
      "1                                 -6.4                                 15.8   \n",
      "2                                 -0.7                                 24.7   \n",
      "3                                  0.2                                 27.6   \n",
      "4                                 61.0                                 75.1   \n",
      "5                                 63.4                                 73.5   \n",
      "6                                 64.0                                 80.5   \n",
      "7                                 75.5                                 82.1   \n",
      "8                                 66.9                                 83.1   \n",
      "\n",
      "   Avg Daily Min Air Temperature (F)  Record Count for Daily Min Air Temp (F)  \\\n",
      "0                               2.89                                      994   \n",
      "1                              -9.03                                      994   \n",
      "2                              -2.17                                      994   \n",
      "3                              -0.43                                      994   \n",
      "4                              51.30                                      994   \n",
      "5                              48.09                                      994   \n",
      "6                              50.84                                      994   \n",
      "7                              55.68                                      994   \n",
      "8                              58.59                                      994   \n",
      "\n",
      "   Min Temp for Daily Min Air Temp (F)  Max Temp for Daily Min Air Temp (F)  \\\n",
      "0                                -13.6                                 15.8   \n",
      "1                                -23.6                                  6.6   \n",
      "2                                -18.3                                 12.9   \n",
      "3                                -16.3                                 16.3   \n",
      "4                                 43.3                                 57.0   \n",
      "5                                 41.1                                 53.0   \n",
      "6                                 44.3                                 55.7   \n",
      "7                                 50.0                                 61.1   \n",
      "8                                 50.9                                 63.2   \n",
      "\n",
      "   Avg Daily Max Heat Index (F)  Record Count for Daily Max Heat Index (F)  \\\n",
      "0                           NaN                                          0   \n",
      "1                           NaN                                          0   \n",
      "2                           NaN                                          0   \n",
      "3                           NaN                                          0   \n",
      "4                           NaN                                          0   \n",
      "5                           NaN                                          0   \n",
      "6                         82.60                                          2   \n",
      "7                         81.42                                        349   \n",
      "8                         82.87                                         78   \n",
      "\n",
      "   Min for Daily Max Heat Index (F)  Max for Daily Max Heat Index (F)  \\\n",
      "0                               NaN                               NaN   \n",
      "1                               NaN                               NaN   \n",
      "2                               NaN                               NaN   \n",
      "3                               NaN                               NaN   \n",
      "4                               NaN                               NaN   \n",
      "5                               NaN                               NaN   \n",
      "6                              82.4                              82.8   \n",
      "7                              80.2                              83.4   \n",
      "8                              81.6                              85.2   \n",
      "\n",
      "  Daily Max Heat Index (F) % Coverage  \n",
      "0                               0.00%  \n",
      "1                               0.00%  \n",
      "2                               0.00%  \n",
      "3                               0.00%  \n",
      "4                               0.00%  \n",
      "5                               0.00%  \n",
      "6                               0.20%  \n",
      "7                              35.11%  \n",
      "8                               7.85%  \n"
     ]
    }
   ],
   "source": [
    "#  clean all the \"Missing\" values\n",
    "#  add the na_values\n",
    "temp = pd.read_csv(\"data/temp_data_01.csv\", na_values=[\"Missing\"])\n",
    "print(temp)"
   ]
  },
  {
   "cell_type": "code",
   "execution_count": 9,
   "metadata": {},
   "outputs": [
    {
     "name": "stdout",
     "output_type": "stream",
     "text": [
      "           4      5    6     7     8      9    10    11    12     13   14  \\\n",
      "0  1979/01/01  17.48  994   6.0  30.5   2.89  994 -13.6  15.8    NaN    0   \n",
      "1  1979/01/02   4.64  994  -6.4  15.8  -9.03  994 -23.6   6.6    NaN    0   \n",
      "2  1979/01/03  11.05  994  -0.7  24.7  -2.17  994 -18.3  12.9    NaN    0   \n",
      "3  1979/01/04   9.51  994   0.2  27.6  -0.43  994 -16.3  16.3    NaN    0   \n",
      "4  1979/05/15  68.42  994  61.0  75.1  51.30  994  43.3  57.0    NaN    0   \n",
      "5  1979/05/16  70.29  994  63.4  73.5  48.09  994  41.1  53.0    NaN    0   \n",
      "6  1979/05/17  75.34  994  64.0  80.5  50.84  994  44.3  55.7  82.60    2   \n",
      "7  1979/05/18  79.13  994  75.5  82.1  55.68  994  50.0  61.1  81.42  349   \n",
      "8  1979/05/19  74.94  994  66.9  83.1  58.59  994  50.9  63.2  82.87   78   \n",
      "\n",
      "     15    16      17  \n",
      "0   NaN   NaN   0.00%  \n",
      "1   NaN   NaN   0.00%  \n",
      "2   NaN   NaN   0.00%  \n",
      "3   NaN   NaN   0.00%  \n",
      "4   NaN   NaN   0.00%  \n",
      "5   NaN   NaN   0.00%  \n",
      "6  82.4  82.8   0.20%  \n",
      "7  80.2  83.4  35.11%  \n",
      "8  81.6  85.2   7.85%  \n"
     ]
    }
   ],
   "source": [
    "# setting header = 0 to turn off the heaaders\n",
    "temp = pd.read_csv(\"data/temp_data_01.csv\", na_values=[\"Missing\"],header = 0, names=range(18), usecols= range(4,18))\n",
    "print(temp)"
   ]
  },
  {
   "cell_type": "code",
   "execution_count": 10,
   "metadata": {},
   "outputs": [
    {
     "name": "stdout",
     "output_type": "stream",
     "text": [
      "0     0.00%\n",
      "1     0.00%\n",
      "2     0.00%\n",
      "3     0.00%\n",
      "4     0.00%\n",
      "5     0.00%\n",
      "6     0.20%\n",
      "7    35.11%\n",
      "8     7.85%\n",
      "Name: 17, dtype: object\n"
     ]
    }
   ],
   "source": [
    "#retrieve values from column 17\n",
    "print(temp[17])"
   ]
  },
  {
   "cell_type": "code",
   "execution_count": 12,
   "metadata": {},
   "outputs": [
    {
     "name": "stdout",
     "output_type": "stream",
     "text": [
      "7.85%\n"
     ]
    }
   ],
   "source": [
    "#first record , column 17\n",
    "print(temp[17][8])"
   ]
  },
  {
   "cell_type": "code",
   "execution_count": 13,
   "metadata": {},
   "outputs": [
    {
     "name": "stdout",
     "output_type": "stream",
     "text": [
      "0     0.00\n",
      "1     0.00\n",
      "2     0.00\n",
      "3     0.00\n",
      "4     0.00\n",
      "5     0.00\n",
      "6     0.20\n",
      "7    35.11\n",
      "8     7.85\n",
      "Name: 17, dtype: object\n"
     ]
    }
   ],
   "source": [
    "# remove % symbol from column 17\n",
    "temp[17] = temp[17].str.strip(\"%\")\n",
    "print(temp[17])"
   ]
  },
  {
   "cell_type": "code",
   "execution_count": 14,
   "metadata": {},
   "outputs": [
    {
     "data": {
      "text/plain": [
       "str"
      ]
     },
     "execution_count": 14,
     "metadata": {},
     "output_type": "execute_result"
    }
   ],
   "source": [
    "#check data type\n",
    "type(temp[17][0])"
   ]
  },
  {
   "cell_type": "code",
   "execution_count": 15,
   "metadata": {},
   "outputs": [
    {
     "name": "stdout",
     "output_type": "stream",
     "text": [
      "0     0.00\n",
      "1     0.00\n",
      "2     0.00\n",
      "3     0.00\n",
      "4     0.00\n",
      "5     0.00\n",
      "6     0.20\n",
      "7    35.11\n",
      "8     7.85\n",
      "Name: 17, dtype: float64\n"
     ]
    }
   ],
   "source": [
    "#convert str values to int/numeric\n",
    "temp[17] = pd.to_numeric(temp[17])\n",
    "print(temp[17])"
   ]
  },
  {
   "cell_type": "code",
   "execution_count": 16,
   "metadata": {},
   "outputs": [
    {
     "data": {
      "text/plain": [
       "numpy.float64"
      ]
     },
     "execution_count": 16,
     "metadata": {},
     "output_type": "execute_result"
    }
   ],
   "source": [
    "type(temp[17][0])"
   ]
  },
  {
   "cell_type": "code",
   "execution_count": 17,
   "metadata": {},
   "outputs": [
    {
     "name": "stdout",
     "output_type": "stream",
     "text": [
      "0    0.0000\n",
      "1    0.0000\n",
      "2    0.0000\n",
      "3    0.0000\n",
      "4    0.0000\n",
      "5    0.0000\n",
      "6    0.0020\n",
      "7    0.3511\n",
      "8    0.0785\n",
      "Name: 17, dtype: float64\n"
     ]
    }
   ],
   "source": [
    "# divide all values in column in 17 by 100\n",
    "temp[17] = temp[17].div(100)\n",
    "print(temp[17])"
   ]
  },
  {
   "cell_type": "code",
   "execution_count": 23,
   "metadata": {},
   "outputs": [
    {
     "name": "stdout",
     "output_type": "stream",
     "text": [
      "0.4316\n",
      "0.04795555555555556\n",
      "0.35109999999999997\n",
      "0.0\n"
     ]
    }
   ],
   "source": [
    "# get the total of columns\n",
    "print(temp[17].sum())\n",
    "print(temp[17].mean())\n",
    "print(temp[17].max())\n",
    "print(temp[17].median())"
   ]
  }
 ],
 "metadata": {
  "kernelspec": {
   "display_name": "Python 3",
   "language": "python",
   "name": "python3"
  },
  "language_info": {
   "codemirror_mode": {
    "name": "ipython",
    "version": 3
   },
   "file_extension": ".py",
   "mimetype": "text/x-python",
   "name": "python",
   "nbconvert_exporter": "python",
   "pygments_lexer": "ipython3",
   "version": "3.7.4"
  }
 },
 "nbformat": 4,
 "nbformat_minor": 2
}
