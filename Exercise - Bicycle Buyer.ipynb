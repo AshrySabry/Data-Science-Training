{
 "cells": [
  {
   "cell_type": "markdown",
   "metadata": {},
   "source": [
    "# AdventureWorks : Bicycle Buyer\n",
    "\n",
    "To complete this challenge:\n",
    "\n",
    "1. Download the Adventure Works data files.\n",
    "2. Clean the data by replacing any missing values and removing duplicate rows. In this dataset, each customer is identified by    a unique customer ID. The most recent version of a duplicated record should be retained.\n",
    "3. Explore the data by calculating summary and descriptive statistics for the features in the dataset, calculating correlations    between features, and creating data visualizations to determine apparent relationships in the data.\n",
    "4. Based on your analysis of the customer data after removing all duplicate customer records, answer the questions below.\n",
    "    \n",
    "    Question 1: Minimum AveMonthSpend (22)\n",
    "    \n",
    "    Question 2: Maximum AveMonthSpend (176)\n",
    "    \n",
    "    Question 3: Mean AveMonthSpend (72.3899)\n",
    "    \n",
    "    Question 4: Median AveMonthSpend (68.0)\n",
    "    \n",
    "    Question 5: \n",
    "    \n",
    "    The distribution of the values in the BikeBuyer column indicates:\n",
    "        \n",
    "        A. Fewer customers have bought bikes than have not \n",
    "        bought bikes.\n",
    "        B. More customers have bought bikes than have not \n",
    "        bought bikes.\n",
    "        C. The same number of customers have bought bikes \n",
    "        as have not bought bikes.\n",
    "        \n",
    "        Answer: A\n",
    "\n",
    "    Question 6:\n",
    "    \n",
    "    Select the correct order (from lowest to highest) that ranks the median YearlyIncome by Occupation:\n",
    "        \n",
    "        A. Clerical, Manual, Skilled Manual, Professional, Management\n",
    "        B. Manual, Skilled Manual, Clerical, Management, Professional\n",
    "        C. Manual, Clerical, Skilled Manual, Professional, Management\n",
    "        D. Manual, Clerical, Skilled Manual, Management, Professional\n",
    "        \n",
    "        Answer: C\n"
   ]
  }
 ],
 "metadata": {
  "kernelspec": {
   "display_name": "Python 3",
   "language": "python",
   "name": "python3"
  },
  "language_info": {
   "codemirror_mode": {
    "name": "ipython",
    "version": 3
   },
   "file_extension": ".py",
   "mimetype": "text/x-python",
   "name": "python",
   "nbconvert_exporter": "python",
   "pygments_lexer": "ipython3",
   "version": "3.7.4"
  }
 },
 "nbformat": 4,
 "nbformat_minor": 2
}
