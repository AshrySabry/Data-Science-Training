{
 "cells": [
  {
   "cell_type": "code",
   "execution_count": 5,
   "metadata": {},
   "outputs": [
    {
     "name": "stdout",
     "output_type": "stream",
     "text": [
      "ID    First           Middle     Last            Department\n",
      "1080  Priscillia      Forbes     Shepard         Cleaning Services\n",
      "4382  Devan                      Fielder         Public Relations\n",
      "6285  Grey                       Collyer         Public Relations\n",
      "6201  Kierah                     Battaile        Catering\n",
      "6671  Madilyn                    Helling         Public Relations\n",
      "4898  Deri-J                     Watherston      Research\n",
      "8954  Alec                       Leng            Production\n",
      "6263  Rebbekkah                  Clifford        Cleaning Services\n",
      "1704  Elorm                      Lynes           Sales\n",
      "2064  Kinza           Roxanna    Farrer          Research\n",
      "4663  Zackery                    Poyntz          Research\n",
      "1601  Albert          Lukas      Montgomery      Legal\n",
      "3702  Albert          Lukas      Montgomery      Sales\n",
      "4730  Nadelle                    Landale         Warehousing\n",
      "4191  Cory            Diljeet    Stockill        Sales\n",
      "6119  Rhae                       Forrester       Sales\n",
      "4454  Kieara                     Milner          Cleaning Services\n",
      "5502  Taylore         Amellia    Granse          Cleaning Services\n",
      "7505  Tyra            Deborah    Elting          Research\n",
      "7506  Tyra            Deborah    Elting          Catering\n",
      "1183  Bridget         Beverley   Pace            Catering\n",
      "7337  Nathen                     Lemerrie        Customer Service\n",
      "2462  Ashlee                     Hooten          Production\n",
      "0641  Kelci-Louise               Blakey          Sales\n",
      "8866  Asir                       Cowthwaite      Human Resources\n",
      "0196  Niven           Cary       Sproule         Warehousing\n",
      "0199  Niven           Cary       Sproule         Sales\n",
      "0243  Niven           Cary       Sproule         Legal\n",
      "4541  Keirien                    Blenkinsop      Customer Service\n"
     ]
    }
   ],
   "source": [
    "path = 'data\\\\users.txt'\n",
    "path = 'data/users.txt'\n",
    "\n",
    "print (\"ID\".ljust(5),\"First\".ljust(15), \"Middle\".ljust(10),\"Last\".ljust(15), \"Department\")\n",
    "#loop for employees array\n",
    "with open(path) as f:\n",
    "    for line in f :\n",
    "        (id, first, middle,last, dept) = line.strip().split(':')\n",
    "        print(id.ljust(5), first.ljust(15), middle.ljust(10), last.ljust(15),dept)"
   ]
  },
  {
   "cell_type": "code",
   "execution_count": 10,
   "metadata": {},
   "outputs": [],
   "source": [
    "def get_dict(file) :\n",
    "    thedict = {}\n",
    "    for line in open(file) :\n",
    "        # split the string\n",
    "        items = line.strip().split(':')\n",
    "        # add items to dictionary\n",
    "        thedict[items[1]] = [items[0], items[1], items[2], items[3], items[4]]\n",
    "    return thedict"
   ]
  },
  {
   "cell_type": "code",
   "execution_count": 15,
   "metadata": {},
   "outputs": [],
   "source": [
    "#define a function that sort and display list\n",
    "def display(data) :\n",
    "    for k in sorted(list(data)):\n",
    "        print(data[k][0].ljust(5), \" \",\n",
    "              data[k][1].ljust(10), \" \",\n",
    "              data[k][2].ljust(5), \" \",\n",
    "              data[k][3].ljust(15), \" \",\n",
    "              data[k][4])\n",
    "              \n"
   ]
  }
 ],
 "metadata": {
  "kernelspec": {
   "display_name": "Python 3",
   "language": "python",
   "name": "python3"
  },
  "language_info": {
   "codemirror_mode": {
    "name": "ipython",
    "version": 3
   },
   "file_extension": ".py",
   "mimetype": "text/x-python",
   "name": "python",
   "nbconvert_exporter": "python",
   "pygments_lexer": "ipython3",
   "version": "3.7.4"
  }
 },
 "nbformat": 4,
 "nbformat_minor": 2
}
