{
 "cells": [
  {
   "cell_type": "code",
   "execution_count": 2,
   "metadata": {},
   "outputs": [],
   "source": [
    "# import module to use date time\n",
    "# import datetime\n",
    "from datetime import datetime\n",
    "# module to work with path\n",
    "import pathlib\n",
    "import zipfile"
   ]
  },
  {
   "cell_type": "code",
   "execution_count": 3,
   "metadata": {},
   "outputs": [
    {
     "name": "stdout",
     "output_type": "stream",
     "text": [
      "2019-12-04\n"
     ]
    }
   ],
   "source": [
    "FILE_PATTERN = \"*.txt\" # look for txt files\n",
    "ARCHIVE = \"archive\"    # archive folder\n",
    "\n",
    "# to get the formatted date string\n",
    "date_string = datetime.today().strftime(\"%Y-%m-%d\")\n",
    "print(date_string)"
   ]
  },
  {
   "cell_type": "code",
   "execution_count": 10,
   "metadata": {},
   "outputs": [
    {
     "name": "stdout",
     "output_type": "stream",
     "text": [
      ".\n"
     ]
    }
   ],
   "source": [
    "# set the current path\n",
    "cur_path = pathlib.Path(\".\")\n",
    "print(cur_path)"
   ]
  },
  {
   "cell_type": "code",
   "execution_count": 11,
   "metadata": {},
   "outputs": [
    {
     "name": "stdout",
     "output_type": "stream",
     "text": [
      "<generator object Path.glob at 0x0000017BE6F162C8>\n"
     ]
    }
   ],
   "source": [
    "# glob operation, get all txt files in current path\n",
    "files = cur_path.glob(FILE_PATTERN)\n",
    "print(files)"
   ]
  },
  {
   "cell_type": "code",
   "execution_count": 12,
   "metadata": {},
   "outputs": [],
   "source": [
    "# loop through files and rename and move the files to archive\n",
    "for file in files :\n",
    "    new_filename = \"{}_{}{}\".format(file.stem, date_string, \n",
    "                                    file.suffix)\n",
    "    new_path = cur_path.joinpath(ARCHIVE, new_filename)\n",
    "    file.rename(new_path)"
   ]
  },
  {
   "cell_type": "code",
   "execution_count": 13,
   "metadata": {},
   "outputs": [],
   "source": [
    "# codes to move files to dated folder in archive\n",
    "# set folder for each date\n",
    "new_path = cur_path.joinpath(ARCHIVE, date_string)\n",
    "new_path.mkdir()\n",
    "\n",
    "# glob all text files\n",
    "files = cur_path.glob(FILE_PATTERN)\n",
    "\n",
    "# move files\n",
    "for file in files :\n",
    "    file.rename(new_path.joinpath(file.name))"
   ]
  },
  {
   "cell_type": "code",
   "execution_count": 16,
   "metadata": {},
   "outputs": [],
   "source": [
    "# zipping archive\n",
    "files = cur_path.glob(FILE_PATTERN)\n",
    "\n",
    "# define the zip file path\n",
    "zip_file_path = cur_path.joinpath(ARCHIVE, date_string + \".zip\")\n",
    "\n",
    "# set for writing\n",
    "zip_file = zipfile.ZipFile(str(zip_file_path), \"w\")\n",
    "\n",
    "# move and zip files\n",
    "for file in files :\n",
    "    zip_file.write(str(file))\n",
    "    file.unlink()"
   ]
  },
  {
   "cell_type": "code",
   "execution_count": 24,
   "metadata": {},
   "outputs": [
    {
     "name": "stdout",
     "output_type": "stream",
     "text": [
      "archive\n",
      "2019-12-03 00:00:00\n",
      "10:04:44.805475\n"
     ]
    }
   ],
   "source": [
    "# script to do grooming ie. remove old zip files \n",
    "# (more than 30 days)\n",
    "ARCHIVE_WEEKDAY = 1\n",
    "FILE_PATTERN = \"*.zip\"\n",
    "\n",
    "zip_file_path = cur_path.joinpath(ARCHIVE)\n",
    "print(zip_file_path)\n",
    "files = zip_file_path.glob(FILE_PATTERN)\n",
    "current_date = datetime.today()\n",
    "\n",
    "# loop and cleanup\n",
    "for file in files :\n",
    "    name = file.stem\n",
    "    file_date = datetime.strptime(name, \"%Y-%m-%d\")\n",
    "    print(file_date)\n",
    "    file_timedelta = current_date - file_date\n",
    "    print(file_timedelta)\n",
    "    # check if file is older\n",
    "    if file_timedelta > timedelta(days=30) and file_date.weekday() != ARCHIVE_WEEKDAY :\n",
    "        file.unlink()"
   ]
  },
  {
   "cell_type": "code",
   "execution_count": null,
   "metadata": {},
   "outputs": [],
   "source": []
  }
 ],
 "metadata": {
  "kernelspec": {
   "display_name": "Python 3",
   "language": "python",
   "name": "python3"
  },
  "language_info": {
   "codemirror_mode": {
    "name": "ipython",
    "version": 3
   },
   "file_extension": ".py",
   "mimetype": "text/x-python",
   "name": "python",
   "nbconvert_exporter": "python",
   "pygments_lexer": "ipython3",
   "version": "3.7.4"
  }
 },
 "nbformat": 4,
 "nbformat_minor": 2
}
