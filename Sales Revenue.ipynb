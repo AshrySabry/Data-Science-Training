{
 "cells": [
  {
   "cell_type": "code",
   "execution_count": 16,
   "metadata": {},
   "outputs": [],
   "source": [
    "%matplotlib inline\n",
    "import pandas as pd\n",
    "import numpy as np\n",
    "import matplotlib.pyplot as plt"
   ]
  },
  {
   "cell_type": "code",
   "execution_count": 4,
   "metadata": {},
   "outputs": [
    {
     "name": "stdout",
     "output_type": "stream",
     "text": [
      "   Team member  Territory  Month  Calls\n",
      "0        Jorge          3      1    107\n",
      "1        Jorge          3      2     88\n",
      "2        Jorge          3      3     84\n",
      "3        Jorge          3      4    113\n",
      "4          Ana          1      1     91\n",
      "5          Ana          1      2    129\n",
      "6          Ana          1      3     96\n",
      "7          Ana          1      4    128\n",
      "8          Ali          2      1    120\n",
      "9          Ali          2      2     85\n",
      "10         Ali          2      3     87\n",
      "11         Ali          2      4     87\n"
     ]
    }
   ],
   "source": [
    "# load the sales calls\n",
    "calls = pd.read_csv(\"data/sales_calls.csv\")\n",
    "print(calls)"
   ]
  },
  {
   "cell_type": "code",
   "execution_count": 5,
   "metadata": {},
   "outputs": [
    {
     "name": "stdout",
     "output_type": "stream",
     "text": [
      "    Territory  Month  Amount\n",
      "0           1      1   54228\n",
      "1           1      2   61640\n",
      "2           1      3   43491\n",
      "3           1      4   52173\n",
      "4           2      1   36061\n",
      "5           2      2   44957\n",
      "6           2      3   35058\n",
      "7           2      4   33855\n",
      "8           3      1   50876\n",
      "9           3      2   57682\n",
      "10          3      3   53689\n",
      "11          3      4   49173\n"
     ]
    }
   ],
   "source": [
    "# load the sales revenue\n",
    "revenue = pd.read_csv(\"data/sales_revenue.csv\")\n",
    "print(revenue)"
   ]
  },
  {
   "cell_type": "code",
   "execution_count": 6,
   "metadata": {},
   "outputs": [
    {
     "name": "stdout",
     "output_type": "stream",
     "text": [
      "   Team member  Territory  Month  Calls  Amount\n",
      "0        Jorge          3      1    107   50876\n",
      "1        Jorge          3      2     88   57682\n",
      "2        Jorge          3      3     84   53689\n",
      "3        Jorge          3      4    113   49173\n",
      "4          Ana          1      1     91   54228\n",
      "5          Ana          1      2    129   61640\n",
      "6          Ana          1      3     96   43491\n",
      "7          Ana          1      4    128   52173\n",
      "8          Ali          2      1    120   36061\n",
      "9          Ali          2      2     85   44957\n",
      "10         Ali          2      3     87   35058\n",
      "11         Ali          2      4     87   33855\n"
     ]
    }
   ],
   "source": [
    "# merge both files\n",
    "calls_revenue = pd.merge(calls, revenue, on=['Territory', 'Month'])\n",
    "print(calls_revenue)"
   ]
  },
  {
   "cell_type": "code",
   "execution_count": 7,
   "metadata": {},
   "outputs": [
    {
     "name": "stdout",
     "output_type": "stream",
     "text": [
      "  Team member  Territory  Month  Calls  Amount\n",
      "0       Jorge          3      1    107   50876\n",
      "1       Jorge          3      2     88   57682\n",
      "2       Jorge          3      3     84   53689\n",
      "3       Jorge          3      4    113   49173\n"
     ]
    }
   ],
   "source": [
    "# select records for Territory=3\n",
    "print(calls_revenue[calls_revenue.Territory==3])"
   ]
  },
  {
   "cell_type": "code",
   "execution_count": 8,
   "metadata": {},
   "outputs": [
    {
     "name": "stdout",
     "output_type": "stream",
     "text": [
      "   Team member  Territory  Month  Calls  Amount\n",
      "8          Ali          2      1    120   36061\n",
      "9          Ali          2      2     85   44957\n",
      "10         Ali          2      3     87   35058\n",
      "11         Ali          2      4     87   33855\n"
     ]
    }
   ],
   "source": [
    "# TRY: select records for Ali\n",
    "print(calls_revenue[calls_revenue['Team member']=='Ali'])"
   ]
  },
  {
   "cell_type": "code",
   "execution_count": 9,
   "metadata": {},
   "outputs": [
    {
     "name": "stdout",
     "output_type": "stream",
     "text": [
      "  Team member  Territory  Month  Calls  Amount\n",
      "1       Jorge          3      2     88   57682\n",
      "2       Jorge          3      3     84   53689\n",
      "4         Ana          1      1     91   54228\n",
      "9         Ali          2      2     85   44957\n"
     ]
    }
   ],
   "source": [
    "# TRY: select records in which amount per call is greater than 500\n",
    "print(calls_revenue[calls_revenue.Amount/calls_revenue.Calls > 500])"
   ]
  },
  {
   "cell_type": "code",
   "execution_count": 10,
   "metadata": {},
   "outputs": [
    {
     "name": "stdout",
     "output_type": "stream",
     "text": [
      "   Team member  Territory  Month  Calls  Amount  Call_Amount\n",
      "0        Jorge          3      1    107   50876   475.476636\n",
      "1        Jorge          3      2     88   57682   655.477273\n",
      "2        Jorge          3      3     84   53689   639.154762\n",
      "3        Jorge          3      4    113   49173   435.159292\n",
      "4          Ana          1      1     91   54228   595.912088\n",
      "5          Ana          1      2    129   61640   477.829457\n",
      "6          Ana          1      3     96   43491   453.031250\n",
      "7          Ana          1      4    128   52173   407.601562\n",
      "8          Ali          2      1    120   36061   300.508333\n",
      "9          Ali          2      2     85   44957   528.905882\n",
      "10         Ali          2      3     87   35058   402.965517\n",
      "11         Ali          2      4     87   33855   389.137931\n"
     ]
    }
   ],
   "source": [
    "# calculate the amount per call and store in a new column\n",
    "calls_revenue['Call_Amount'] = calls_revenue.Amount/calls_revenue.Calls\n",
    "print(calls_revenue)"
   ]
  },
  {
   "cell_type": "code",
   "execution_count": 11,
   "metadata": {},
   "outputs": [
    {
     "name": "stdout",
     "output_type": "stream",
     "text": [
      "  Team member  Territory  Month  Calls  Amount  Call_Amount\n",
      "1       Jorge          3      2     88   57682   655.477273\n",
      "2       Jorge          3      3     84   53689   639.154762\n",
      "4         Ana          1      1     91   54228   595.912088\n",
      "9         Ali          2      2     85   44957   528.905882\n"
     ]
    }
   ],
   "source": [
    "print(calls_revenue[calls_revenue.Amount/calls_revenue.Calls > 500])"
   ]
  },
  {
   "cell_type": "code",
   "execution_count": 12,
   "metadata": {},
   "outputs": [
    {
     "name": "stdout",
     "output_type": "stream",
     "text": [
      "1215\n",
      "101.25\n",
      "93.5\n",
      "84\n",
      "129\n",
      "       Territory      Month       Calls        Amount  Call_Amount\n",
      "count  12.000000  12.000000   12.000000     12.000000    12.000000\n",
      "mean    2.000000   2.500000  101.250000  47740.250000   480.096665\n",
      "std     0.852803   1.167748   17.279126   9129.881321   107.179540\n",
      "min     1.000000   1.000000   84.000000  33855.000000   300.508333\n",
      "25%     1.000000   1.750000   87.000000  41633.500000   406.442551\n",
      "50%     2.000000   2.500000   93.500000  50024.500000   464.253943\n",
      "75%     3.000000   3.250000  114.750000  53823.750000   545.657434\n",
      "max     3.000000   4.000000  129.000000  61640.000000   655.477273\n"
     ]
    }
   ],
   "source": [
    "# get sum, mean, median, min, max\n",
    "print(calls_revenue.Calls.sum())\n",
    "print(calls_revenue.Calls.mean())\n",
    "print(calls_revenue.Calls.median())\n",
    "print(calls_revenue.Calls.min())\n",
    "print(calls_revenue.Calls.max())\n",
    "print(calls_revenue.describe())"
   ]
  },
  {
   "cell_type": "code",
   "execution_count": 20,
   "metadata": {},
   "outputs": [
    {
     "name": "stdout",
     "output_type": "stream",
     "text": [
      "  Team member  Territory  Month  Calls  Amount  Call_Amount\n",
      "0       Jorge          3      1    107   50876   475.476636\n",
      "1       Jorge          3      2     88   57682   655.477273\n",
      "2       Jorge          3      3     84   53689   639.154762\n",
      "4         Ana          1      1     91   54228   595.912088\n",
      "5         Ana          1      2    129   61640   477.829457\n",
      "9         Ali          2      2     85   44957   528.905882\n"
     ]
    }
   ],
   "source": [
    "# TRY: select records with amount per calls above the median\n",
    "print(calls_revenue[calls_revenue.Call_Amount >= calls_revenue.Call_Amount.median()])"
   ]
  },
  {
   "cell_type": "code",
   "execution_count": 21,
   "metadata": {},
   "outputs": [
    {
     "name": "stdout",
     "output_type": "stream",
     "text": [
      "       Calls  Amount\n",
      "Month               \n",
      "1        318  141165\n",
      "2        302  164279\n",
      "3        267  132238\n",
      "4        328  135201\n"
     ]
    }
   ],
   "source": [
    "# groupby Month\n",
    "print(calls_revenue[[\"Month\", \"Calls\", \"Amount\"]]\n",
    "      .groupby([\"Month\"]).sum())"
   ]
  },
  {
   "cell_type": "code",
   "execution_count": 179,
   "metadata": {},
   "outputs": [
    {
     "name": "stdout",
     "output_type": "stream",
     "text": [
      "           Calls  Amount\n",
      "Territory               \n",
      "1            444  211532\n",
      "2            379  149931\n",
      "3            392  211420\n"
     ]
    }
   ],
   "source": [
    "# groupby Territory\n",
    "print(calls_revenue[[\"Territory\",\"Calls\", \"Amount\"]]\n",
    "      .groupby([\"Territory\"]).sum())"
   ]
  },
  {
   "cell_type": "code",
   "execution_count": 25,
   "metadata": {},
   "outputs": [
    {
     "name": "stdout",
     "output_type": "stream",
     "text": [
      "                   Calls  Amount\n",
      "Team member Month               \n",
      "Ali         1        120   36061\n",
      "            2         85   44957\n",
      "            3         87   35058\n",
      "            4         87   33855\n",
      "Ana         1         91   54228\n",
      "            2        129   61640\n",
      "            3         96   43491\n",
      "            4        128   52173\n",
      "Jorge       1        107   50876\n",
      "            2         88   57682\n",
      "            3         84   53689\n",
      "            4        113   49173\n"
     ]
    }
   ],
   "source": [
    "print(calls_revenue[[\"Team member\", \"Calls\", \"Amount\", \"Month\"]]\n",
    "      .groupby([\"Team member\", \"Month\"]).sum())"
   ]
  },
  {
   "cell_type": "code",
   "execution_count": 27,
   "metadata": {},
   "outputs": [
    {
     "data": {
      "text/plain": [
       "<matplotlib.axes._subplots.AxesSubplot at 0x232bcbfe0c8>"
      ]
     },
     "execution_count": 27,
     "metadata": {},
     "output_type": "execute_result"
    },
    {
     "data": {
      "image/png": "[encoded data removed]",
      "text/plain": [
       "<Figure size 432x288 with 1 Axes>"
      ]
     },
     "metadata": {
      "needs_background": "light"
     },
     "output_type": "display_data"
    }
   ],
   "source": [
    "# use bar chart to display Calls per Territory\n",
    "calls_revenue[['Territory', 'Calls']].groupby(['Territory']).sum().plot.bar()"
   ]
  },
  {
   "cell_type": "code",
   "execution_count": 172,
   "metadata": {},
   "outputs": [
    {
     "name": "stdout",
     "output_type": "stream",
     "text": [
      "                   Calls\n",
      "Team member Month       \n",
      "Ali         1        120\n",
      "            2         85\n",
      "            3         87\n",
      "            4         87\n",
      "Ana         1         91\n",
      "            2        129\n",
      "            3         96\n",
      "            4        128\n",
      "Jorge       1        107\n",
      "            2         88\n",
      "            3         84\n",
      "            4        113\n",
      "[1 2 3 4]\n",
      "['Jorge' 'Ana' 'Ali']\n"
     ]
    }
   ],
   "source": [
    "# calculate calls per month for every team member\n",
    "calls_month = calls_revenue[['Team member', 'Calls', 'Month']].groupby(['Team member','Month']).sum()\n",
    "print(calls_month)\n",
    "\n",
    "# get months\n",
    "months = calls_revenue['Month'].unique()\n",
    "print(months)\n",
    "\n",
    "# get teams\n",
    "teams = calls_revenue['Team member'].unique()\n",
    "print(teams)"
   ]
  },
  {
   "cell_type": "code",
   "execution_count": 158,
   "metadata": {},
   "outputs": [
    {
     "data": {
      "image/png": "[encoded data removed]",
      "text/plain": [
       "<Figure size 432x288 with 3 Axes>"
      ]
     },
     "metadata": {
      "needs_background": "light"
     },
     "output_type": "display_data"
    }
   ],
   "source": [
    "fig = plt.figure()\n",
    "plt.subplots_adjust(wspace = 0.7, hspace = 0.7)\n",
    "\n",
    "ax1 = fig.add_subplot(1, 3, 1)\n",
    "ax2 = fig.add_subplot(1, 3, 2)\n",
    "ax3 = fig.add_subplot(1, 3, 3)\n",
    "\n",
    "ax1.set_xticks([0, 1, 2, 3, 4])\n",
    "ax2.set_xticks([0, 1, 2, 3, 4])\n",
    "ax3.set_xticks([0, 1, 2, 3, 4])\n",
    "\n",
    "ax1.set_xticklabels(months, rotation=0, fontsize='small')\n",
    "ax2.set_xticklabels(months, rotation=0, fontsize='small')\n",
    "ax3.set_xticklabels(months, rotation=0, fontsize='small')\n",
    "\n",
    "ax1.bar(np.arange(len(calls_month['Calls']['Ali'])),\n",
    "        calls_month['Calls']['Ali'])\n",
    "ax2.bar(np.arange(len(calls_month['Calls']['Ana'])), \n",
    "        calls_month['Calls']['Ana'])\n",
    "ax3.bar(np.arange(len(calls_month['Calls']['Jorge'])), \n",
    "        calls_month['Calls']['Jorge'])\n",
    "\n",
    "ax1.set_title('Ali')\n",
    "ax2.set_title('Ana')\n",
    "ax3.set_title('Jorge')\n",
    "\n",
    "ax1.set_xlabel('Month')\n",
    "ax2.set_xlabel('Month')\n",
    "ax3.set_xlabel('Month')\n",
    "\n",
    "ax1.set_ylabel('No of Calls')\n",
    "ax2.set_ylabel('No of Calls')\n",
    "ax3.set_ylabel('No of Calls')\n",
    "\n",
    "plt.show()"
   ]
  },
  {
   "cell_type": "code",
   "execution_count": 173,
   "metadata": {},
   "outputs": [
    {
     "data": {
      "image/png": "[encoded data removed]",
      "text/plain": [
       "<Figure size 432x288 with 3 Axes>"
      ]
     },
     "metadata": {
      "needs_background": "light"
     },
     "output_type": "display_data"
    }
   ],
   "source": [
    "fig, axes = plt.subplots(1, 3, sharex=False, sharey=False)\n",
    "plt.subplots_adjust(wspace=0.7, hspace=0.7)\n",
    "\n",
    "for i in range(3) :\n",
    "    axes[i].set_xticks([0, 1, 2, 3, 4])\n",
    "    axes[i].set_xticklabels(mo nths, rotation=0, fontsize='small')\n",
    "    axes[i].bar(np.arange(len(calls_month['Calls'][teams[i]])),calls_month['Calls'][teams[i]])\n",
    "    axes[i].set_title(teams[i])\n",
    "    axes[i].set_xlabel('Month')\n",
    "    axes[i].set_ylabel('No of Calls')\n",
    "    axes[i].set_xlim([-1, 4])\n",
    "    axes[i].set_ylim(0, 140)"
   ]
  },
  {
   "cell_type": "code",
   "execution_count": null,
   "metadata": {},
   "outputs": [],
   "source": []
  }
 ],
 "metadata": {
  "kernelspec": {
   "display_name": "Python 3",
   "language": "python",
   "name": "python3"
  },
  "language_info": {
   "codemirror_mode": {
    "name": "ipython",
    "version": 3
   },
   "file_extension": ".py",
   "mimetype": "text/x-python",
   "name": "python",
   "nbconvert_exporter": "python",
   "pygments_lexer": "ipython3",
   "version": "3.7.4"
  }
 },
 "nbformat": 4,
 "nbformat_minor": 2
}
