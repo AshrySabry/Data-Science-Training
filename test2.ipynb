{
 "cells": [
  {
   "cell_type": "code",
   "execution_count": 5,
   "metadata": {},
   "outputs": [],
   "source": [
    "%matplotlib inline\n",
    "import pandas as pd\n",
    "import numpy as np\n",
    "import matplotlib.pyplot as plt"
   ]
  },
  {
   "cell_type": "code",
   "execution_count": 7,
   "metadata": {},
   "outputs": [
    {
     "name": "stdout",
     "output_type": "stream",
     "text": [
      "      State Month Day, Year Code  Avg Daily Max Air Temperature (F)  \\\n",
      "0  Illinois           1979/01/01                              17.48   \n",
      "1  Illinois           1979/01/02                               4.64   \n",
      "2  Illinois           1979/01/03                              11.05   \n",
      "3  Illinois           1979/01/04                               9.51   \n",
      "4  Illinois           1979/05/15                              68.42   \n",
      "5  Illinois           1979/05/16                              70.29   \n",
      "6  Illinois           1979/05/17                              75.34   \n",
      "7  Illinois           1979/05/18                              79.13   \n",
      "8  Illinois           1979/05/19                              74.94   \n",
      "\n",
      "   Record Count for Daily Max Air Temp (F)  \n",
      "0                                      994  \n",
      "1                                      994  \n",
      "2                                      994  \n",
      "3                                      994  \n",
      "4                                      994  \n",
      "5                                      994  \n",
      "6                                      994  \n",
      "7                                      994  \n",
      "8                                      994  \n"
     ]
    }
   ],
   "source": [
    "path = pd.read_csv(\"data/temp_data_03.csv\")\n",
    "print(path)"
   ]
  },
  {
   "cell_type": "code",
   "execution_count": 11,
   "metadata": {},
   "outputs": [
    {
     "name": "stdout",
     "output_type": "stream",
     "text": [
      "Empty DataFrame\n",
      "Columns: [State, Month Day, Year Code, Avg Daily Max Air Temperature (F), Record Count for Daily Max Air Temp (F)]\n",
      "Index: []\n"
     ]
    }
   ],
   "source": [
    "print(path[path['Avg Daily Max Air Temperature (F)']=='79.13'])"
   ]
  }
 ],
 "metadata": {
  "kernelspec": {
   "display_name": "Python 3",
   "language": "python",
   "name": "python3"
  },
  "language_info": {
   "codemirror_mode": {
    "name": "ipython",
    "version": 3
   },
   "file_extension": ".py",
   "mimetype": "text/x-python",
   "name": "python",
   "nbconvert_exporter": "python",
   "pygments_lexer": "ipython3",
   "version": "3.7.4"
  }
 },
 "nbformat": 4,
 "nbformat_minor": 2
}
