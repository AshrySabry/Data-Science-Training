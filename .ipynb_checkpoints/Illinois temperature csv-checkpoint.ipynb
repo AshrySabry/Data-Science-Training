{
 "cells": [
  {
   "cell_type": "code",
   "execution_count": 1,
   "metadata": {},
   "outputs": [],
   "source": [
    "import csv"
   ]
  },
  {
   "cell_type": "code",
   "execution_count": 3,
   "metadata": {},
   "outputs": [
    {
     "name": "stdout",
     "output_type": "stream",
     "text": [
      "[['State', 'Month Day, Year Code', 'Avg Daily Max Air Temperature (F)', 'Record Count for Daily Max Air Temp (F)'], ['Illinois', '1979/01/01', '17.48', '994'], ['Illinois', '1979/01/02', '4.64', '994'], ['Illinois', '1979/01/03', '11.05', '994'], ['Illinois', '1979/01/04', '9.51', '994'], ['Illinois', '1979/05/15', '68.42', '994'], ['Illinois', '1979/05/16', '70.29', '994'], ['Illinois', '1979/05/17', '75.34', '994'], ['Illinois', '1979/05/18', '79.13', '994'], ['Illinois', '1979/05/19', '74.94', '994']]\n"
     ]
    }
   ],
   "source": [
    "# define a list that will store the data\n",
    "\n",
    "results = []\n",
    "\n",
    "for line in open(\"data/temp_data_pipes_00a.txt\") :\n",
    "    fields = line.strip().split(\"|\")\n",
    "    results.append(fields)\n",
    "    \n",
    "print(results)"
   ]
  },
  {
   "cell_type": "code",
   "execution_count": 7,
   "metadata": {},
   "outputs": [
    {
     "name": "stdout",
     "output_type": "stream",
     "text": [
      "[['State', 'Month Day, Year Code', 'Avg Daily Max Air Temperature (F)', 'Record Count for Daily Max Air Temp (F)'], ['Illinois', '1979/01/01', '17.48', '994'], ['Illinois', '1979/01/02', '4.64', '994'], ['Illinois', '1979/01/03', '11.05', '994'], ['Illinois', '1979/01/04', '9.51', '994'], ['Illinois', '1979/05/15', '68.42', '994'], ['Illinois', '1979/05/16', '70.29', '994'], ['Illinois', '1979/05/17', '75.34', '994'], ['Illinois', '1979/05/18', '79.13', '994'], ['Illinois', '1979/05/19', '74.94', '994']]\n"
     ]
    }
   ],
   "source": [
    "#using csv module\n",
    "\n",
    "results = [fields for fields in csv.reader(open(\"data/temp_data_pipes_00a.txt\", newline = ''), delimiter = \"|\")]\n",
    "\n",
    "print(results)"
   ]
  },
  {
   "cell_type": "code",
   "execution_count": 8,
   "metadata": {},
   "outputs": [
    {
     "name": "stdout",
     "output_type": "stream",
     "text": [
      "[['Notes', 'State', 'State Code', 'Month Day, Year', 'Month Day, Year Code', 'Avg Daily Max Air Temperature (F)', 'Record Count for Daily Max Air Temp (F)', 'Min Temp for Daily Max Air Temp (F)', 'Max Temp for Daily Max Air Temp (F)', 'Avg Daily Min Air Temperature (F)', 'Record Count for Daily Min Air Temp (F)', 'Min Temp for Daily Min Air Temp (F)', 'Max Temp for Daily Min Air Temp (F)', 'Avg Daily Max Heat Index (F)', 'Record Count for Daily Max Heat Index (F)', 'Min for Daily Max Heat Index (F)', 'Max for Daily Max Heat Index (F)', 'Daily Max Heat Index (F) % Coverage'], ['', 'Illinois', '17', 'Jan 01, 1979', '1979/01/01', '17.48', '994', '6.00', '30.50', '2.89', '994', '-13.60', '15.80', 'Missing', '0', 'Missing', 'Missing', '0.00%'], ['', 'Illinois', '17', 'Jan 02, 1979', '1979/01/02', '4.64', '994', '-6.40', '15.80', '-9.03', '994', '-23.60', '6.60', 'Missing', '0', 'Missing', 'Missing', '0.00%'], ['', 'Illinois', '17', 'Jan 03, 1979', '1979/01/03', '11.05', '994', '-0.70', '24.70', '-2.17', '994', '-18.30', '12.90', 'Missing', '0', 'Missing', 'Missing', '0.00%'], ['', 'Illinois', '17', 'Jan 04, 1979', '1979/01/04', '9.51', '994', '0.20', '27.60', '-0.43', '994', '-16.30', '16.30', 'Missing', '0', 'Missing', 'Missing', '0.00%'], ['', 'Illinois', '17', 'May 15, 1979', '1979/05/15', '68.42', '994', '61.00', '75.10', '51.30', '994', '43.30', '57.00', 'Missing', '0', 'Missing', 'Missing', '0.00%'], ['', 'Illinois', '17', 'May 16, 1979', '1979/05/16', '70.29', '994', '63.40', '73.50', '48.09', '994', '41.10', '53.00', 'Missing', '0', 'Missing', 'Missing', '0.00%'], ['', 'Illinois', '17', 'May 17, 1979', '1979/05/17', '75.34', '994', '64.00', '80.50', '50.84', '994', '44.30', '55.70', '82.60', '2', '82.40', '82.80', '0.20%'], ['', 'Illinois', '17', 'May 18, 1979', '1979/05/18', '79.13', '994', '75.50', '82.10', '55.68', '994', '50.00', '61.10', '81.42', '349', '80.20', '83.40', '35.11%'], ['', 'Illinois', '17', 'May 19, 1979', '1979/05/19', '74.94', '994', '66.90', '83.10', '58.59', '994', '50.90', '63.20', '82.87', '78', '81.60', '85.20', '7.85%']]\n"
     ]
    }
   ],
   "source": [
    "#now read the csv file using csv module\n",
    "results2 = [fields for fields in csv.reader(open(\"data/temp_data_01.csv\", newline=''))]\n",
    "print(results2)"
   ]
  },
  {
   "cell_type": "code",
   "execution_count": 14,
   "metadata": {},
   "outputs": [
    {
     "name": "stdout",
     "output_type": "stream",
     "text": [
      "[OrderedDict([('Notes', ''), ('State', 'Illinois'), ('State Code', '17'), ('Month Day, Year', 'Jan 01, 1979'), ('Month Day, Year Code', '1979/01/01'), ('Avg Daily Max Air Temperature (F)', '17.48'), ('Record Count for Daily Max Air Temp (F)', '994'), ('Min Temp for Daily Max Air Temp (F)', '6.00'), ('Max Temp for Daily Max Air Temp (F)', '30.50'), ('Avg Daily Min Air Temperature (F)', '2.89'), ('Record Count for Daily Min Air Temp (F)', '994'), ('Min Temp for Daily Min Air Temp (F)', '-13.60'), ('Max Temp for Daily Min Air Temp (F)', '15.80'), ('Avg Daily Max Heat Index (F)', 'Missing'), ('Record Count for Daily Max Heat Index (F)', '0'), ('Min for Daily Max Heat Index (F)', 'Missing'), ('Max for Daily Max Heat Index (F)', 'Missing'), ('Daily Max Heat Index (F) % Coverage', '0.00%')]), OrderedDict([('Notes', ''), ('State', 'Illinois'), ('State Code', '17'), ('Month Day, Year', 'Jan 02, 1979'), ('Month Day, Year Code', '1979/01/02'), ('Avg Daily Max Air Temperature (F)', '4.64'), ('Record Count for Daily Max Air Temp (F)', '994'), ('Min Temp for Daily Max Air Temp (F)', '-6.40'), ('Max Temp for Daily Max Air Temp (F)', '15.80'), ('Avg Daily Min Air Temperature (F)', '-9.03'), ('Record Count for Daily Min Air Temp (F)', '994'), ('Min Temp for Daily Min Air Temp (F)', '-23.60'), ('Max Temp for Daily Min Air Temp (F)', '6.60'), ('Avg Daily Max Heat Index (F)', 'Missing'), ('Record Count for Daily Max Heat Index (F)', '0'), ('Min for Daily Max Heat Index (F)', 'Missing'), ('Max for Daily Max Heat Index (F)', 'Missing'), ('Daily Max Heat Index (F) % Coverage', '0.00%')]), OrderedDict([('Notes', ''), ('State', 'Illinois'), ('State Code', '17'), ('Month Day, Year', 'Jan 03, 1979'), ('Month Day, Year Code', '1979/01/03'), ('Avg Daily Max Air Temperature (F)', '11.05'), ('Record Count for Daily Max Air Temp (F)', '994'), ('Min Temp for Daily Max Air Temp (F)', '-0.70'), ('Max Temp for Daily Max Air Temp (F)', '24.70'), ('Avg Daily Min Air Temperature (F)', '-2.17'), ('Record Count for Daily Min Air Temp (F)', '994'), ('Min Temp for Daily Min Air Temp (F)', '-18.30'), ('Max Temp for Daily Min Air Temp (F)', '12.90'), ('Avg Daily Max Heat Index (F)', 'Missing'), ('Record Count for Daily Max Heat Index (F)', '0'), ('Min for Daily Max Heat Index (F)', 'Missing'), ('Max for Daily Max Heat Index (F)', 'Missing'), ('Daily Max Heat Index (F) % Coverage', '0.00%')]), OrderedDict([('Notes', ''), ('State', 'Illinois'), ('State Code', '17'), ('Month Day, Year', 'Jan 04, 1979'), ('Month Day, Year Code', '1979/01/04'), ('Avg Daily Max Air Temperature (F)', '9.51'), ('Record Count for Daily Max Air Temp (F)', '994'), ('Min Temp for Daily Max Air Temp (F)', '0.20'), ('Max Temp for Daily Max Air Temp (F)', '27.60'), ('Avg Daily Min Air Temperature (F)', '-0.43'), ('Record Count for Daily Min Air Temp (F)', '994'), ('Min Temp for Daily Min Air Temp (F)', '-16.30'), ('Max Temp for Daily Min Air Temp (F)', '16.30'), ('Avg Daily Max Heat Index (F)', 'Missing'), ('Record Count for Daily Max Heat Index (F)', '0'), ('Min for Daily Max Heat Index (F)', 'Missing'), ('Max for Daily Max Heat Index (F)', 'Missing'), ('Daily Max Heat Index (F) % Coverage', '0.00%')]), OrderedDict([('Notes', ''), ('State', 'Illinois'), ('State Code', '17'), ('Month Day, Year', 'May 15, 1979'), ('Month Day, Year Code', '1979/05/15'), ('Avg Daily Max Air Temperature (F)', '68.42'), ('Record Count for Daily Max Air Temp (F)', '994'), ('Min Temp for Daily Max Air Temp (F)', '61.00'), ('Max Temp for Daily Max Air Temp (F)', '75.10'), ('Avg Daily Min Air Temperature (F)', '51.30'), ('Record Count for Daily Min Air Temp (F)', '994'), ('Min Temp for Daily Min Air Temp (F)', '43.30'), ('Max Temp for Daily Min Air Temp (F)', '57.00'), ('Avg Daily Max Heat Index (F)', 'Missing'), ('Record Count for Daily Max Heat Index (F)', '0'), ('Min for Daily Max Heat Index (F)', 'Missing'), ('Max for Daily Max Heat Index (F)', 'Missing'), ('Daily Max Heat Index (F) % Coverage', '0.00%')]), OrderedDict([('Notes', ''), ('State', 'Illinois'), ('State Code', '17'), ('Month Day, Year', 'May 16, 1979'), ('Month Day, Year Code', '1979/05/16'), ('Avg Daily Max Air Temperature (F)', '70.29'), ('Record Count for Daily Max Air Temp (F)', '994'), ('Min Temp for Daily Max Air Temp (F)', '63.40'), ('Max Temp for Daily Max Air Temp (F)', '73.50'), ('Avg Daily Min Air Temperature (F)', '48.09'), ('Record Count for Daily Min Air Temp (F)', '994'), ('Min Temp for Daily Min Air Temp (F)', '41.10'), ('Max Temp for Daily Min Air Temp (F)', '53.00'), ('Avg Daily Max Heat Index (F)', 'Missing'), ('Record Count for Daily Max Heat Index (F)', '0'), ('Min for Daily Max Heat Index (F)', 'Missing'), ('Max for Daily Max Heat Index (F)', 'Missing'), ('Daily Max Heat Index (F) % Coverage', '0.00%')]), OrderedDict([('Notes', ''), ('State', 'Illinois'), ('State Code', '17'), ('Month Day, Year', 'May 17, 1979'), ('Month Day, Year Code', '1979/05/17'), ('Avg Daily Max Air Temperature (F)', '75.34'), ('Record Count for Daily Max Air Temp (F)', '994'), ('Min Temp for Daily Max Air Temp (F)', '64.00'), ('Max Temp for Daily Max Air Temp (F)', '80.50'), ('Avg Daily Min Air Temperature (F)', '50.84'), ('Record Count for Daily Min Air Temp (F)', '994'), ('Min Temp for Daily Min Air Temp (F)', '44.30'), ('Max Temp for Daily Min Air Temp (F)', '55.70'), ('Avg Daily Max Heat Index (F)', '82.60'), ('Record Count for Daily Max Heat Index (F)', '2'), ('Min for Daily Max Heat Index (F)', '82.40'), ('Max for Daily Max Heat Index (F)', '82.80'), ('Daily Max Heat Index (F) % Coverage', '0.20%')]), OrderedDict([('Notes', ''), ('State', 'Illinois'), ('State Code', '17'), ('Month Day, Year', 'May 18, 1979'), ('Month Day, Year Code', '1979/05/18'), ('Avg Daily Max Air Temperature (F)', '79.13'), ('Record Count for Daily Max Air Temp (F)', '994'), ('Min Temp for Daily Max Air Temp (F)', '75.50'), ('Max Temp for Daily Max Air Temp (F)', '82.10'), ('Avg Daily Min Air Temperature (F)', '55.68'), ('Record Count for Daily Min Air Temp (F)', '994'), ('Min Temp for Daily Min Air Temp (F)', '50.00'), ('Max Temp for Daily Min Air Temp (F)', '61.10'), ('Avg Daily Max Heat Index (F)', '81.42'), ('Record Count for Daily Max Heat Index (F)', '349'), ('Min for Daily Max Heat Index (F)', '80.20'), ('Max for Daily Max Heat Index (F)', '83.40'), ('Daily Max Heat Index (F) % Coverage', '35.11%')]), OrderedDict([('Notes', ''), ('State', 'Illinois'), ('State Code', '17'), ('Month Day, Year', 'May 19, 1979'), ('Month Day, Year Code', '1979/05/19'), ('Avg Daily Max Air Temperature (F)', '74.94'), ('Record Count for Daily Max Air Temp (F)', '994'), ('Min Temp for Daily Max Air Temp (F)', '66.90'), ('Max Temp for Daily Max Air Temp (F)', '83.10'), ('Avg Daily Min Air Temperature (F)', '58.59'), ('Record Count for Daily Min Air Temp (F)', '994'), ('Min Temp for Daily Min Air Temp (F)', '50.90'), ('Max Temp for Daily Min Air Temp (F)', '63.20'), ('Avg Daily Max Heat Index (F)', '82.87'), ('Record Count for Daily Max Heat Index (F)', '78'), ('Min for Daily Max Heat Index (F)', '81.60'), ('Max for Daily Max Heat Index (F)', '85.20'), ('Daily Max Heat Index (F) % Coverage', '7.85%')])]\n"
     ]
    }
   ],
   "source": [
    "#read the data and put it into dictionary\n",
    "results3 = [fields for fields in csv.DictReader(open(\"data/temp_data_01.csv\", newline = ''))]\n",
    "print(results3)"
   ]
  },
  {
   "cell_type": "code",
   "execution_count": 15,
   "metadata": {},
   "outputs": [
    {
     "name": "stdout",
     "output_type": "stream",
     "text": [
      "Illinois\n"
     ]
    }
   ],
   "source": [
    "print(results3[0]['State'])"
   ]
  },
  {
   "cell_type": "code",
   "execution_count": 17,
   "metadata": {},
   "outputs": [
    {
     "name": "stdout",
     "output_type": "stream",
     "text": [
      "17.48\n"
     ]
    }
   ],
   "source": [
    "print(results3[0]['Avg Daily Max Air Temperature (F)'])\n",
    "                  "
   ]
  },
  {
   "cell_type": "code",
   "execution_count": 19,
   "metadata": {},
   "outputs": [],
   "source": [
    "#reading excel file\n",
    "import openpyxl"
   ]
  },
  {
   "cell_type": "code",
   "execution_count": 20,
   "metadata": {},
   "outputs": [
    {
     "name": "stdout",
     "output_type": "stream",
     "text": [
      "Requirement already satisfied: openpyxl in c:\\users\\iverson\\anaconda3\\lib\\site-packages (3.0.0)\n",
      "Requirement already satisfied: jdcal in c:\\users\\iverson\\anaconda3\\lib\\site-packages (from openpyxl) (1.4.1)\n",
      "Requirement already satisfied: et-xmlfile in c:\\users\\iverson\\anaconda3\\lib\\site-packages (from openpyxl) (1.0.1)\n"
     ]
    }
   ],
   "source": [
    "#if not install\n",
    "!pip install openpyxl"
   ]
  },
  {
   "cell_type": "code",
   "execution_count": 21,
   "metadata": {},
   "outputs": [],
   "source": [
    "from openpyxl import load_workbook"
   ]
  },
  {
   "cell_type": "code",
   "execution_count": 24,
   "metadata": {},
   "outputs": [],
   "source": [
    "# open the workbook\n",
    "wb = load_workbook(\"data/temp_data_01.xlsx\")"
   ]
  },
  {
   "cell_type": "code",
   "execution_count": 25,
   "metadata": {},
   "outputs": [
    {
     "name": "stdout",
     "output_type": "stream",
     "text": [
      "[['Notes', 'State', 'State Code', 'Month Day, Year', 'Month Day, Year Code', 'Avg Daily Max Air Temperature (F)', 'Record Count for Daily Max Air Temp (F)', 'Min Temp for Daily Max Air Temp (F)', 'Max Temp for Daily Max Air Temp (F)', 'Avg Daily Max Heat Index (F)', 'Record Count for Daily Max Heat Index (F)', 'Min for Daily Max Heat Index (F)', 'Max for Daily Max Heat Index (F)', 'Daily Max Heat Index (F) % Coverage'], [None, 'Illinois', 17, 'Jan 01, 1979', '1979/01/01', 17.48, 994, 6, 30.5, 'Missing', 0, 'Missing', 'Missing', '0.00%'], [None, 'Illinois', 17, 'Jan 02, 1979', '1979/01/02', 4.64, 994, -6.4, 15.8, 'Missing', 0, 'Missing', 'Missing', '0.00%'], [None, 'Illinois', 17, 'Jan 03, 1979', '1979/01/03', 11.05, 994, -0.7, 24.7, 'Missing', 0, 'Missing', 'Missing', '0.00%'], [None, 'Illinois', 17, 'Jan 04, 1979', '1979/01/04', 9.51, 994, 0.2, 27.6, 'Missing', 0, 'Missing', 'Missing', '0.00%'], [None, 'Illinois', 17, 'May 15, 1979', '1979/05/15', 68.42, 994, 61, 75.1, 'Missing', 0, 'Missing', 'Missing', '0.00%'], [None, 'Illinois', 17, 'May 16, 1979', '1979/05/16', 70.29, 994, 63.4, 73.5, 'Missing', 0, 'Missing', 'Missing', '0.00%'], [None, 'Illinois', 17, 'May 17, 1979', '1979/05/17', 75.34, 994, 64, 80.5, 82.6, 2, 82.4, 82.8, '0.20%'], [None, 'Illinois', 17, 'May 18, 1979', '1979/05/18', 79.13, 994, 75.5, 82.1, 81.42, 349, 80.2, 83.4, '35.11%'], [None, 'Illinois', 17, 'May 19, 1979', '1979/05/19', 74.94, 994, 66.9, 83.1, 82.87, 78, 81.6, 85.2, '7.85%']]\n"
     ]
    }
   ],
   "source": [
    "results =[]\n",
    "ws = wb.worksheets[0]\n",
    "#start reading \n",
    "for row in ws.iter_rows() :\n",
    "    results.append([cell.value for cell in row])\n",
    "    \n",
    "print(results)"
   ]
  }
 ],
 "metadata": {
  "kernelspec": {
   "display_name": "Python 3",
   "language": "python",
   "name": "python3"
  },
  "language_info": {
   "codemirror_mode": {
    "name": "ipython",
    "version": 3
   },
   "file_extension": ".py",
   "mimetype": "text/x-python",
   "name": "python",
   "nbconvert_exporter": "python",
   "pygments_lexer": "ipython3",
   "version": "3.7.4"
  }
 },
 "nbformat": 4,
 "nbformat_minor": 2
}
