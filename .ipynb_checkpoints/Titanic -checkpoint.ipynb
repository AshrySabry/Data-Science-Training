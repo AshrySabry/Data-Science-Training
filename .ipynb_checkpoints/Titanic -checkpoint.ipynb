{
 "cells": [
  {
   "cell_type": "code",
   "execution_count": 124,
   "metadata": {},
   "outputs": [],
   "source": [
    "%matplotlib inline\n",
    "import pandas as pd\n",
    "import numpy as np\n",
    "from datetime import datetime\n",
    "import seaborn as sns\n",
    "import matplotlib.pyplot as plt"
   ]
  },
  {
   "cell_type": "code",
   "execution_count": 125,
   "metadata": {},
   "outputs": [
    {
     "name": "stdout",
     "output_type": "stream",
     "text": [
      "     PassengerId  Survived\n",
      "0            892         0\n",
      "1            893         1\n",
      "2            894         0\n",
      "3            895         0\n",
      "4            896         1\n",
      "..           ...       ...\n",
      "413         1305         0\n",
      "414         1306         1\n",
      "415         1307         0\n",
      "416         1308         0\n",
      "417         1309         0\n",
      "\n",
      "[418 rows x 2 columns]\n"
     ]
    }
   ],
   "source": [
    "gendermodel = pd.read_csv(\"datasets/titanic/gendermodel.csv\",usecols=['PassengerId','Survived'])\n",
    "print(gendermodel)"
   ]
  },
  {
   "cell_type": "code",
   "execution_count": 166,
   "metadata": {},
   "outputs": [
    {
     "name": "stdout",
     "output_type": "stream",
     "text": [
      "     PassengerId  Pclass     Sex Embarked\n",
      "0            892       3    male        Q\n",
      "1            893       3  female        S\n",
      "2            894       2    male        Q\n",
      "3            895       3    male        S\n",
      "4            896       3  female        S\n",
      "..           ...     ...     ...      ...\n",
      "413         1305       3    male        S\n",
      "414         1306       1  female        C\n",
      "415         1307       3    male        S\n",
      "416         1308       3    male        S\n",
      "417         1309       3    male        C\n",
      "\n",
      "[418 rows x 4 columns]\n"
     ]
    }
   ],
   "source": [
    "test = pd.read_csv(\"datasets/titanic/test.csv\",usecols=['PassengerId','Sex','Embarked','Pclass'])\n",
    "print(test)"
   ]
  },
  {
   "cell_type": "code",
   "execution_count": 167,
   "metadata": {},
   "outputs": [
    {
     "name": "stdout",
     "output_type": "stream",
     "text": [
      "     PassengerId  Survived  Pclass     Sex Embarked\n",
      "0            892         0       3    male        Q\n",
      "1            893         1       3  female        S\n",
      "2            894         0       2    male        Q\n",
      "3            895         0       3    male        S\n",
      "4            896         1       3  female        S\n",
      "..           ...       ...     ...     ...      ...\n",
      "413         1305         0       3    male        S\n",
      "414         1306         1       1  female        C\n",
      "415         1307         0       3    male        S\n",
      "416         1308         0       3    male        S\n",
      "417         1309         0       3    male        C\n",
      "\n",
      "[418 rows x 5 columns]\n"
     ]
    }
   ],
   "source": [
    "df = gendermodel.merge(test, on='PassengerId')\n",
    "print(df)"
   ]
  },
  {
   "cell_type": "code",
   "execution_count": 128,
   "metadata": {
    "scrolled": true
   },
   "outputs": [
    {
     "name": "stdout",
     "output_type": "stream",
     "text": [
      "Series([], dtype: bool)\n"
     ]
    }
   ],
   "source": [
    "print(df.isna().any()[lambda x:x])"
   ]
  },
  {
   "cell_type": "code",
   "execution_count": 129,
   "metadata": {},
   "outputs": [
    {
     "name": "stdout",
     "output_type": "stream",
     "text": [
      "S    270\n",
      "C    102\n",
      "Q     46\n",
      "Name: Embarked, dtype: int64\n"
     ]
    }
   ],
   "source": [
    "survive = df['Embarked'].value_counts()\n",
    "print(survive)"
   ]
  },
  {
   "cell_type": "code",
   "execution_count": 130,
   "metadata": {},
   "outputs": [
    {
     "name": "stdout",
     "output_type": "stream",
     "text": [
      "                                                                 Sex\n",
      "Survived Embarked                                                   \n",
      "0        C         malemalemalemalemalemalemalemalemalemalemalema...\n",
      "         Q         malemalemalemalemalemalemalemalemalemalemalema...\n",
      "         S         malemalemalemalemalemalemalemalemalemalemalema...\n",
      "1        C         femalefemalefemalefemalefemalefemalefemalefema...\n",
      "         Q         femalefemalefemalefemalefemalefemalefemalefema...\n",
      "         S         femalefemalefemalefemalefemalefemalefemalefema...\n"
     ]
    }
   ],
   "source": [
    "print(df[[\"Survived\", \"Sex\",'Embarked']]\n",
    "      .groupby([\"Survived\",'Embarked']).sum())"
   ]
  },
  {
   "cell_type": "code",
   "execution_count": 157,
   "metadata": {},
   "outputs": [
    {
     "name": "stdout",
     "output_type": "stream",
     "text": [
      "        Survived\n",
      "Sex             \n",
      "female       152\n",
      "male           0\n"
     ]
    }
   ],
   "source": [
    "print(df[['Sex', 'Survived']].groupby(['Sex']).sum())"
   ]
  },
  {
   "cell_type": "code",
   "execution_count": 168,
   "metadata": {},
   "outputs": [
    {
     "name": "stdout",
     "output_type": "stream",
     "text": [
      "                                 PassengerId\n",
      "Survived Embarked Sex    Pclass             \n",
      "0        C        male   1                28\n",
      "                         2                 7\n",
      "                         3                27\n",
      "         Q        male   2                 4\n",
      "                         3                18\n",
      "         S        male   1                29\n",
      "                         2                52\n",
      "                         3               101\n",
      "1        C        female 1                28\n",
      "                         2                 4\n",
      "                         3                 8\n",
      "         Q        female 1                 1\n",
      "                         3                23\n",
      "         S        female 1                21\n",
      "                         2                26\n",
      "                         3                41\n"
     ]
    }
   ],
   "source": [
    "print(df[['PassengerId','Survived','Embarked','Sex','Pclass']].groupby(['Survived','Embarked','Sex','Pclass']).count())"
   ]
  },
  {
   "cell_type": "code",
   "execution_count": 133,
   "metadata": {},
   "outputs": [
    {
     "name": "stdout",
     "output_type": "stream",
     "text": [
      "['male' 'female']\n"
     ]
    }
   ],
   "source": [
    "sex = df['Sex'].unique()\n",
    "print(sex)"
   ]
  },
  {
   "cell_type": "code",
   "execution_count": 156,
   "metadata": {},
   "outputs": [
    {
     "name": "stdout",
     "output_type": "stream",
     "text": [
      "Empty DataFrame\n",
      "Columns: []\n",
      "Index: [(female, 1), (male, 0)]\n"
     ]
    }
   ],
   "source": [
    "print(df[[\"Sex\", \"Survived\"]]\n",
    "      .groupby([\"Sex\",\"Survived\"]).sum())"
   ]
  },
  {
   "cell_type": "code",
   "execution_count": 74,
   "metadata": {},
   "outputs": [
    {
     "data": {
      "text/html": [
       "<div>\n",
       "<style scoped>\n",
       "    .dataframe tbody tr th:only-of-type {\n",
       "        vertical-align: middle;\n",
       "    }\n",
       "\n",
       "    .dataframe tbody tr th {\n",
       "        vertical-align: top;\n",
       "    }\n",
       "\n",
       "    .dataframe thead th {\n",
       "        text-align: right;\n",
       "    }\n",
       "</style>\n",
       "<table border=\"1\" class=\"dataframe\">\n",
       "  <thead>\n",
       "    <tr style=\"text-align: right;\">\n",
       "      <th></th>\n",
       "      <th>Sex</th>\n",
       "      <th>PassengerId</th>\n",
       "      <th>Survived</th>\n",
       "    </tr>\n",
       "  </thead>\n",
       "  <tbody>\n",
       "    <tr>\n",
       "      <td>0</td>\n",
       "      <td>female</td>\n",
       "      <td>152</td>\n",
       "      <td>152</td>\n",
       "    </tr>\n",
       "    <tr>\n",
       "      <td>1</td>\n",
       "      <td>male</td>\n",
       "      <td>266</td>\n",
       "      <td>266</td>\n",
       "    </tr>\n",
       "  </tbody>\n",
       "</table>\n",
       "</div>"
      ],
      "text/plain": [
       "      Sex  PassengerId  Survived\n",
       "0  female          152       152\n",
       "1    male          266       266"
      ]
     },
     "execution_count": 74,
     "metadata": {},
     "output_type": "execute_result"
    }
   ],
   "source": [
    "df[['PassengerId', 'Survived', 'Sex']].groupby(['Sex'], as_index = False).count()"
   ]
  }
 ],
 "metadata": {
  "kernelspec": {
   "display_name": "Python 3",
   "language": "python",
   "name": "python3"
  },
  "language_info": {
   "codemirror_mode": {
    "name": "ipython",
    "version": 3
   },
   "file_extension": ".py",
   "mimetype": "text/x-python",
   "name": "python",
   "nbconvert_exporter": "python",
   "pygments_lexer": "ipython3",
   "version": "3.7.4"
  }
 },
 "nbformat": 4,
 "nbformat_minor": 2
}
