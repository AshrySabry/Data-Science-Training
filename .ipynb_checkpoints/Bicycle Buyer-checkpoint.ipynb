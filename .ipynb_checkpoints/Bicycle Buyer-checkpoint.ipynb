{
 "cells": [
  {
   "cell_type": "code",
   "execution_count": 1,
   "metadata": {},
   "outputs": [],
   "source": [
    "%matplotlib inline\n",
    "import pandas as pd\n",
    "import numpy as np\n",
    "from datetime import datetime\n",
    "import seaborn as sns\n",
    "import matplotlib.pyplot as plt"
   ]
  },
  {
   "cell_type": "code",
   "execution_count": 2,
   "metadata": {},
   "outputs": [
    {
     "name": "stdout",
     "output_type": "stream",
     "text": [
      "(16519, 23)\n"
     ]
    }
   ],
   "source": [
    "# load first dataset\n",
    "AdvWorksCusts = pd.read_csv('AdventureWorks/AdvWorksCusts.csv')\n",
    "print(AdvWorksCusts.shape)"
   ]
  },
  {
   "cell_type": "code",
   "execution_count": 3,
   "metadata": {},
   "outputs": [
    {
     "name": "stdout",
     "output_type": "stream",
     "text": [
      "(16519, 2)\n"
     ]
    }
   ],
   "source": [
    "# load second dataset\n",
    "AW_AveMonthSpend = pd.read_csv('AdventureWorks/AW_AveMonthSpend.csv')\n",
    "print(AW_AveMonthSpend.shape)"
   ]
  },
  {
   "cell_type": "code",
   "execution_count": 4,
   "metadata": {},
   "outputs": [
    {
     "name": "stdout",
     "output_type": "stream",
     "text": [
      "(16519, 2)\n"
     ]
    }
   ],
   "source": [
    "# load third dataset\n",
    "AW_BikeBuyer = pd.read_csv('AdventureWorks/AW_BikeBuyer.csv')\n",
    "print(AW_BikeBuyer.shape)"
   ]
  },
  {
   "cell_type": "code",
   "execution_count": 5,
   "metadata": {},
   "outputs": [
    {
     "name": "stdout",
     "output_type": "stream",
     "text": [
      "(16749, 24)\n",
      "(17209, 25)\n"
     ]
    }
   ],
   "source": [
    "# merge all datasets\n",
    "df = AdvWorksCusts.merge(AW_AveMonthSpend, on='CustomerID')\n",
    "print(df.shape)\n",
    "df = df.merge(AW_BikeBuyer, on='CustomerID')\n",
    "print(df.shape)"
   ]
  },
  {
   "cell_type": "code",
   "execution_count": 6,
   "metadata": {},
   "outputs": [
    {
     "name": "stdout",
     "output_type": "stream",
     "text": [
      "Index(['CustomerID', 'Title', 'FirstName', 'MiddleName', 'LastName', 'Suffix',\n",
      "       'AddressLine1', 'AddressLine2', 'City', 'StateProvinceName',\n",
      "       'CountryRegionName', 'PostalCode', 'PhoneNumber', 'BirthDate',\n",
      "       'Education', 'Occupation', 'Gender', 'MaritalStatus', 'HomeOwnerFlag',\n",
      "       'NumberCarsOwned', 'NumberChildrenAtHome', 'TotalChildren',\n",
      "       'YearlyIncome', 'AveMonthSpend', 'BikeBuyer'],\n",
      "      dtype='object')\n"
     ]
    }
   ],
   "source": [
    "# retrieve all columns\n",
    "cols = df.columns\n",
    "print(cols)"
   ]
  },
  {
   "cell_type": "code",
   "execution_count": 7,
   "metadata": {},
   "outputs": [
    {
     "name": "stdout",
     "output_type": "stream",
     "text": [
      "\n",
      "Columns with missing values\n",
      "Title           True\n",
      "MiddleName      True\n",
      "Suffix          True\n",
      "AddressLine2    True\n",
      "dtype: bool\n"
     ]
    }
   ],
   "source": [
    "# check for columns with missing values\n",
    "print(\"\\nColumns with missing values\")\n",
    "print(df.isna().any()[lambda x:x])"
   ]
  },
  {
   "cell_type": "code",
   "execution_count": 8,
   "metadata": {},
   "outputs": [
    {
     "name": "stdout",
     "output_type": "stream",
     "text": [
      "\n",
      "Columns with missing value and counts\n",
      "             \tNull \tNot Null\n",
      "Title        \t17121 \t88\n",
      "MiddleName   \t7189 \t10020\n",
      "Suffix       \t17207 \t2\n",
      "AddressLine2 \t16918 \t291\n"
     ]
    }
   ],
   "source": [
    "print(\"\\nColumns with missing value and counts\")\n",
    "print(\"{0:12} \\t{1} \\t{2}\".format('', 'Null', 'Not Null'))\n",
    "for column in df :\n",
    "    if df[column].isnull().any() :\n",
    "        print(\"{0:12} \\t{1} \\t{2}\"\n",
    "              .format(column, df[column].isnull().sum(), \n",
    "                      df.shape[0] - df[column].isnull().sum()))"
   ]
  },
  {
   "cell_type": "code",
   "execution_count": 17,
   "metadata": {},
   "outputs": [
    {
     "name": "stdout",
     "output_type": "stream",
     "text": [
      "\tRemoving duplicates and keeping the recent records\n",
      "Before: \t(16404, 25)\n",
      "After: \t\t(16404, 25)\n",
      "Unique: \t(16404,)\n"
     ]
    }
   ],
   "source": [
    "# remove duplicates and keep recent records\n",
    "print(\"\\tRemoving duplicates and keeping the recent records\")\n",
    "print(\"{0}\\t{1}\".format('Before: ', df.shape))\n",
    "df.drop_duplicates(subset='CustomerID', keep='last', inplace=True)\n",
    "print(\"{0}\\t\\t{1}\".format('After: ', df.shape))\n",
    "print(\"{0}\\t{1}\".format('Unique: ', df.CustomerID.unique().shape))"
   ]
  },
  {
   "cell_type": "code",
   "execution_count": 18,
   "metadata": {},
   "outputs": [
    {
     "name": "stdout",
     "output_type": "stream",
     "text": [
      "\tSummary Statistics\n",
      "\n",
      "       AveMonthSpend\n",
      "count   16404.000000\n",
      "mean       72.391002\n",
      "std        27.269921\n",
      "min        22.000000\n",
      "25%        52.000000\n",
      "50%        68.000000\n",
      "75%        84.000000\n",
      "max       176.000000\n"
     ]
    }
   ],
   "source": [
    "# summary statistics\n",
    "print(\"\\tSummary Statistics\")\n",
    "print()\n",
    "print(df[['AveMonthSpend']].describe())"
   ]
  },
  {
   "cell_type": "code",
   "execution_count": 19,
   "metadata": {},
   "outputs": [
    {
     "name": "stdout",
     "output_type": "stream",
     "text": [
      "\tBike Buyer\n",
      "\n",
      "0    10949\n",
      "1     5455\n",
      "Name: BikeBuyer, dtype: int64\n"
     ]
    }
   ],
   "source": [
    "# bike buyer\n",
    "print(\"\\tBike Buyer\")\n",
    "print()\n",
    "bike_buyer = df['BikeBuyer'].value_counts()\n",
    "print(bike_buyer)"
   ]
  },
  {
   "cell_type": "code",
   "execution_count": 27,
   "metadata": {},
   "outputs": [
    {
     "name": "stdout",
     "output_type": "stream",
     "text": [
      "\tMedian YearlyIncome by Occupation\n",
      "\n",
      "                YearlyIncome\n",
      "Occupation                  \n",
      "Manual               21722.0\n",
      "Clerical             49481.0\n",
      "Skilled Manual       66471.5\n",
      "Professional         99058.0\n",
      "Management          118781.0\n"
     ]
    }
   ],
   "source": [
    "# ranks the median YearlyIncome by Occupation\n",
    "print(\"\\tMedian YearlyIncome by Occupation\")\n",
    "print()\n",
    "print(df[['Occupation', 'YearlyIncome']]\n",
    "      .groupby('Occupation').median()\n",
    "      .sort_values(by='YearlyIncome'))"
   ]
  },
  {
   "cell_type": "code",
   "execution_count": 33,
   "metadata": {},
   "outputs": [
    {
     "ename": "AttributeError",
     "evalue": "'method_descriptor' object has no attribute 'today'",
     "output_type": "error",
     "traceback": [
      "\u001b[1;31m---------------------------------------------------------------------------\u001b[0m",
      "\u001b[1;31mAttributeError\u001b[0m                            Traceback (most recent call last)",
      "\u001b[1;32m<ipython-input-33-b9254505a155>\u001b[0m in \u001b[0;36m<module>\u001b[1;34m\u001b[0m\n\u001b[0;32m      1\u001b[0m \u001b[1;31m# calculate Age\u001b[0m\u001b[1;33m\u001b[0m\u001b[1;33m\u001b[0m\u001b[1;33m\u001b[0m\u001b[0m\n\u001b[1;32m----> 2\u001b[1;33m \u001b[0mtoday\u001b[0m \u001b[1;33m=\u001b[0m \u001b[0mdatetime\u001b[0m\u001b[1;33m.\u001b[0m\u001b[0mdate\u001b[0m\u001b[1;33m.\u001b[0m\u001b[0mtoday\u001b[0m\u001b[1;33m(\u001b[0m\u001b[1;33m)\u001b[0m\u001b[1;33m.\u001b[0m\u001b[0mstrftime\u001b[0m\u001b[1;33m(\u001b[0m\u001b[1;34m\"%Y-%m-%d\"\u001b[0m\u001b[1;33m)\u001b[0m\u001b[1;33m\u001b[0m\u001b[1;33m\u001b[0m\u001b[0m\n\u001b[0m\u001b[0;32m      3\u001b[0m \u001b[0mprint\u001b[0m\u001b[1;33m(\u001b[0m\u001b[0mtoday\u001b[0m\u001b[1;33m)\u001b[0m\u001b[1;33m\u001b[0m\u001b[1;33m\u001b[0m\u001b[0m\n",
      "\u001b[1;31mAttributeError\u001b[0m: 'method_descriptor' object has no attribute 'today'"
     ]
    }
   ],
   "source": [
    "# calculate Age\n",
    "today = datetime.date.today().strftime(\"%Y-%m-%d\")\n",
    "print(today)"
   ]
  },
  {
   "cell_type": "code",
   "execution_count": null,
   "metadata": {},
   "outputs": [],
   "source": []
  },
  {
   "cell_type": "code",
   "execution_count": 32,
   "metadata": {},
   "outputs": [
    {
     "name": "stdout",
     "output_type": "stream",
     "text": [
      "Gender\n"
     ]
    },
    {
     "data": {
      "image/png": "[encoded data removed]",
      "text/plain": [
       "<Figure size 720x288 with 2 Axes>"
      ]
     },
     "metadata": {
      "needs_background": "light"
     },
     "output_type": "display_data"
    },
    {
     "name": "stdout",
     "output_type": "stream",
     "text": [
      "Occupation\n"
     ]
    },
    {
     "data": {
      "image/png": "[encoded data removed]",
      "text/plain": [
       "<Figure size 720x288 with 2 Axes>"
      ]
     },
     "metadata": {
      "needs_background": "light"
     },
     "output_type": "display_data"
    },
    {
     "name": "stdout",
     "output_type": "stream",
     "text": [
      "MaritalStatus\n"
     ]
    },
    {
     "data": {
      "image/png": "[encoded data removed]",
      "text/plain": [
       "<Figure size 720x288 with 2 Axes>"
      ]
     },
     "metadata": {
      "needs_background": "light"
     },
     "output_type": "display_data"
    }
   ],
   "source": [
    "# get the columns for plotting\n",
    "num_cols = ['Gender', 'Occupation', 'MaritalStatus']\n",
    "\n",
    "# plot for bike buyer\n",
    "df['dummy'] = np.ones(shape = df.shape[0])\n",
    "for col in num_cols :\n",
    "    print(col)\n",
    "    counts = df[['dummy', 'BikeBuyer', col]].groupby(['BikeBuyer', col], as_index = False).count()\n",
    "    temp = counts[counts['BikeBuyer'] == 0][[col, 'dummy']]\n",
    "    _ = plt.figure(figsize = (10,4))\n",
    "    plt.subplot(1, 2, 1)\n",
    "    temp = counts[counts['BikeBuyer'] == 0][[col, 'dummy']]\n",
    "    plt.bar(temp[col], temp.dummy)\n",
    "    plt.xticks(rotation=90)\n",
    "    plt.title(\"Counts for \" + col + \"\\nNot Buyer\")\n",
    "    plt.ylabel(\"count\")\n",
    "    plt.subplot(1, 2, 2)\n",
    "    temp = counts[counts['BikeBuyer'] == 1][[col, 'dummy']]\n",
    "    plt.bar(temp[col], temp.dummy)\n",
    "    plt.xticks(rotation=90)\n",
    "    plt.title(\"Counts for \" + col + \"\\nBike Buyer\")\n",
    "    plt.ylabel(\"count\")\n",
    "    plt.show()"
   ]
  },
  {
   "cell_type": "code",
   "execution_count": null,
   "metadata": {},
   "outputs": [],
   "source": []
  }
 ],
 "metadata": {
  "kernelspec": {
   "display_name": "Python 3",
   "language": "python",
   "name": "python3"
  },
  "language_info": {
   "codemirror_mode": {
    "name": "ipython",
    "version": 3
   },
   "file_extension": ".py",
   "mimetype": "text/x-python",
   "name": "python",
   "nbconvert_exporter": "python",
   "pygments_lexer": "ipython3",
   "version": "3.7.4"
  }
 },
 "nbformat": 4,
 "nbformat_minor": 2
}
