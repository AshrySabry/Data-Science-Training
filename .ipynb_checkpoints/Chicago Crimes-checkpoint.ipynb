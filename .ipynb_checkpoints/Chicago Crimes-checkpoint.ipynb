{
 "cells": [
  {
   "cell_type": "code",
   "execution_count": 2,
   "metadata": {},
   "outputs": [],
   "source": [
    "import requests\n",
    "import json"
   ]
  },
  {
   "cell_type": "code",
   "execution_count": 3,
   "metadata": {},
   "outputs": [],
   "source": [
    "#connect to service and pull data\n",
    "#getting the parameter from link\n",
    "response = requests.get(\"https://data.cityofchicago.org/resource/6zsd-86xi.json?$where=date between '2015-01-10T12:00:00' and '2015-01-10T13:00:00'&arrest=true\")"
   ]
  },
  {
   "cell_type": "code",
   "execution_count": 4,
   "metadata": {},
   "outputs": [],
   "source": [
    "#read the respnse data as json\n",
    "crime_data = json.loads(response.text)"
   ]
  },
  {
   "cell_type": "code",
   "execution_count": 8,
   "metadata": {},
   "outputs": [
    {
     "data": {
      "text/plain": [
       "{'id': '9921038',\n",
       " 'case_number': 'HY110050',\n",
       " 'date': '2015-01-10T12:00:00.000',\n",
       " 'block': '095XX S BENNETT AVE',\n",
       " 'iucr': '2820',\n",
       " 'primary_type': 'OTHER OFFENSE',\n",
       " 'description': 'TELEPHONE THREAT',\n",
       " 'location_description': 'RESIDENCE',\n",
       " 'arrest': True,\n",
       " 'domestic': True,\n",
       " 'beat': '0431',\n",
       " 'district': '004',\n",
       " 'ward': '7',\n",
       " 'community_area': '51',\n",
       " 'fbi_code': '26',\n",
       " 'x_coordinate': '1190515',\n",
       " 'y_coordinate': '1842078',\n",
       " 'year': '2015',\n",
       " 'updated_on': '2018-02-10T15:50:01.000',\n",
       " 'latitude': '41.721683546',\n",
       " 'longitude': '-87.57776968',\n",
       " 'location': {'type': 'Point', 'coordinates': [-87.57776968, 41.721683546]},\n",
       " 'location_address': '',\n",
       " 'location_city': '',\n",
       " 'location_state': '',\n",
       " 'location_zip': ''}"
      ]
     },
     "execution_count": 8,
     "metadata": {},
     "output_type": "execute_result"
    }
   ],
   "source": [
    "crime_data[0]"
   ]
  },
  {
   "cell_type": "code",
   "execution_count": 12,
   "metadata": {},
   "outputs": [
    {
     "data": {
      "text/plain": [
       "list"
      ]
     },
     "execution_count": 12,
     "metadata": {},
     "output_type": "execute_result"
    }
   ],
   "source": [
    "type(crime_data)"
   ]
  },
  {
   "cell_type": "code",
   "execution_count": 9,
   "metadata": {},
   "outputs": [
    {
     "data": {
      "text/plain": [
       "8"
      ]
     },
     "execution_count": 9,
     "metadata": {},
     "output_type": "execute_result"
    }
   ],
   "source": [
    "len(crime_data)"
   ]
  },
  {
   "cell_type": "code",
   "execution_count": 10,
   "metadata": {},
   "outputs": [
    {
     "data": {
      "text/plain": [
       "dict_keys(['id', 'case_number', 'date', 'block', 'iucr', 'primary_type', 'description', 'location_description', 'arrest', 'domestic', 'beat', 'district', 'ward', 'community_area', 'fbi_code', 'x_coordinate', 'y_coordinate', 'year', 'updated_on', 'latitude', 'longitude', 'location', 'location_address', 'location_city', 'location_state', 'location_zip'])"
      ]
     },
     "execution_count": 10,
     "metadata": {},
     "output_type": "execute_result"
    }
   ],
   "source": [
    "#get all keys from dictionary\n",
    "crime_data[0].keys()"
   ]
  },
  {
   "cell_type": "code",
   "execution_count": 11,
   "metadata": {},
   "outputs": [
    {
     "data": {
      "text/plain": [
       "dict_values(['9921038', 'HY110050', '2015-01-10T12:00:00.000', '095XX S BENNETT AVE', '2820', 'OTHER OFFENSE', 'TELEPHONE THREAT', 'RESIDENCE', True, True, '0431', '004', '7', '51', '26', '1190515', '1842078', '2015', '2018-02-10T15:50:01.000', '41.721683546', '-87.57776968', {'type': 'Point', 'coordinates': [-87.57776968, 41.721683546]}, '', '', '', ''])"
      ]
     },
     "execution_count": 11,
     "metadata": {},
     "output_type": "execute_result"
    }
   ],
   "source": [
    "crime_data[0].values()"
   ]
  },
  {
   "cell_type": "code",
   "execution_count": 13,
   "metadata": {},
   "outputs": [
    {
     "data": {
      "text/plain": [
       "dict_items([('id', '9921038'), ('case_number', 'HY110050'), ('date', '2015-01-10T12:00:00.000'), ('block', '095XX S BENNETT AVE'), ('iucr', '2820'), ('primary_type', 'OTHER OFFENSE'), ('description', 'TELEPHONE THREAT'), ('location_description', 'RESIDENCE'), ('arrest', True), ('domestic', True), ('beat', '0431'), ('district', '004'), ('ward', '7'), ('community_area', '51'), ('fbi_code', '26'), ('x_coordinate', '1190515'), ('y_coordinate', '1842078'), ('year', '2015'), ('updated_on', '2018-02-10T15:50:01.000'), ('latitude', '41.721683546'), ('longitude', '-87.57776968'), ('location', {'type': 'Point', 'coordinates': [-87.57776968, 41.721683546]}), ('location_address', ''), ('location_city', ''), ('location_state', ''), ('location_zip', '')])"
      ]
     },
     "execution_count": 13,
     "metadata": {},
     "output_type": "execute_result"
    }
   ],
   "source": [
    "crime_data[0].items()"
   ]
  },
  {
   "cell_type": "code",
   "execution_count": 14,
   "metadata": {},
   "outputs": [],
   "source": [
    "# save to file for later use\n",
    "#w is for writing mode\n",
    "with open(\"crime_all.json\", \"w\") as outfile :\n",
    "    json.dump(crime_data,outfile)"
   ]
  }
 ],
 "metadata": {
  "kernelspec": {
   "display_name": "Python 3",
   "language": "python",
   "name": "python3"
  },
  "language_info": {
   "codemirror_mode": {
    "name": "ipython",
    "version": 3
   },
   "file_extension": ".py",
   "mimetype": "text/x-python",
   "name": "python",
   "nbconvert_exporter": "python",
   "pygments_lexer": "ipython3",
   "version": "3.7.4"
  }
 },
 "nbformat": 4,
 "nbformat_minor": 2
}
