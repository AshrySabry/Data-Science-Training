{
 "cells": [
  {
   "cell_type": "code",
   "execution_count": 1,
   "metadata": {},
   "outputs": [
    {
     "name": "stdout",
     "output_type": "stream",
     "text": [
      "Call me Ishmael.  Some years ago--never mind how long precisely--\n",
      "having little or no money in my purse, and nothing particular\n",
      "to interest me on shore, I thought I would sail about a little\n",
      "and see the watery part of the world.  It is a way I have\n",
      "of driving off the spleen and regulating the circulation.\n",
      "Whenever I find myself growing grim about the mouth;\n",
      "whenever it is a damp, drizzly November in my soul; whenever I\n",
      "find myself involuntarily pausing before coffin warehouses,\n",
      "and bringing up the rear of every funeral I meet;\n",
      "and especially whenever my hypos get such an upper hand of me,\n",
      "that it requires a strong moral principle to prevent me from\n",
      "deliberately stepping into the street, and methodically knocking\n",
      "people's hats off--then, I account it high time to get to sea\n",
      "as soon as I can.  This is my substitute for pistol and ball.\n",
      "With a philosophical flourish Cato throws himself upon his sword;\n",
      "I quietly take to the ship.  There is nothing surprising in this.\n",
      "If they but knew it, almost all men in their degree, some time\n",
      "or other, cherish very nearly the same feelings towards\n",
      "the ocean with me.\n",
      "\n",
      "There now is your insular city of the Manhattoes, belted round by wharves\n",
      "as Indian isles by coral reefs--commerce surrounds it with her surf.\n",
      "Right and left, the streets take you waterward.  Its extreme downtown\n",
      "is the battery, where that noble mole is washed by waves, and cooled\n",
      "by breezes, which a few hours previous were out of sight of land.\n",
      "Look at the crowds of water-gazers there.\n",
      "\n"
     ]
    }
   ],
   "source": [
    "# set path\n",
    "path = \"data/moby_01.txt\"\n",
    "\n",
    "#open file for reading\n",
    "moby_text = open(path).read()\n",
    "\n",
    "print(moby_text)"
   ]
  },
  {
   "cell_type": "code",
   "execution_count": 2,
   "metadata": {},
   "outputs": [
    {
     "name": "stdout",
     "output_type": "stream",
     "text": [
      "There now is your insular city of the Manhattoes, belted round by wharves\n",
      "as Indian isles by coral reefs--commerce surrounds it with her surf.\n",
      "Right and left, the streets take you waterward.  Its extreme downtown\n",
      "is the battery, where that noble mole is washed by waves, and cooled\n",
      "by breezes, which a few hours previous were out of sight of land.\n",
      "Look at the crowds of water-gazers there.\n",
      "\n"
     ]
    }
   ],
   "source": [
    "# split the paragraphs\n",
    "moby_paragraphs = moby_text.split(\"\\n\\n\")\n",
    "\n",
    "# print the second paragraphs\n",
    "print(moby_paragraphs[1])"
   ]
  },
  {
   "cell_type": "code",
   "execution_count": 3,
   "metadata": {},
   "outputs": [
    {
     "name": "stdout",
     "output_type": "stream",
     "text": [
      "there now is your insular city of the manhattoes, belted round by wharves\n",
      "as indian isles by coral reefs--commerce surrounds it with her surf.\n",
      "right and left, the streets take you waterward.  its extreme downtown\n",
      "is the battery, where that noble mole is washed by waves, and cooled\n",
      "by breezes, which a few hours previous were out of sight of land.\n",
      "look at the crowds of water-gazers there.\n",
      "\n"
     ]
    }
   ],
   "source": [
    "# convert all to lowercase\n",
    "\n",
    "moby=moby_paragraphs[1].lower()\n",
    "print(moby)"
   ]
  },
  {
   "cell_type": "code",
   "execution_count": 5,
   "metadata": {},
   "outputs": [
    {
     "name": "stdout",
     "output_type": "stream",
     "text": [
      "there now is your insular city of the manhattoes, belted round by wharves\n",
      "as indian isles by coral reefs--commerce surrounds it with her surf,\n",
      "right and left, the streets take you waterward,  its extreme downtown\n",
      "is the battery, where that noble mole is washed by waves, and cooled\n",
      "by breezes, which a few hours previous were out of sight of land,\n",
      "look at the crowds of water-gazers there,\n",
      "\n"
     ]
    }
   ],
   "source": [
    "#remove . and , symbols\n",
    "\n",
    "moby= moby.replace(\".\", \"\")\n",
    "print(moby)"
   ]
  },
  {
   "cell_type": "code",
   "execution_count": 6,
   "metadata": {},
   "outputs": [
    {
     "name": "stdout",
     "output_type": "stream",
     "text": [
      "there now is your insular city of the manhattoes belted round by wharves\n",
      "as indian isles by coral reefs--commerce surrounds it with her surf\n",
      "right and left the streets take you waterward  its extreme downtown\n",
      "is the battery where that noble mole is washed by waves and cooled\n",
      "by breezes which a few hours previous were out of sight of land\n",
      "look at the crowds of water-gazers there\n",
      "\n"
     ]
    }
   ],
   "source": [
    "moby= moby.replace(\",\", \"\")\n",
    "print(moby)"
   ]
  },
  {
   "cell_type": "code",
   "execution_count": 7,
   "metadata": {},
   "outputs": [
    {
     "name": "stdout",
     "output_type": "stream",
     "text": [
      "['there', 'now', 'is', 'your', 'insular', 'city', 'of', 'the', 'manhattoes', 'belted', 'round', 'by', 'wharves', 'as', 'indian', 'isles', 'by', 'coral', 'reefs--commerce', 'surrounds', 'it', 'with', 'her', 'surf', 'right', 'and', 'left', 'the', 'streets', 'take', 'you', 'waterward', 'its', 'extreme', 'downtown', 'is', 'the', 'battery', 'where', 'that', 'noble', 'mole', 'is', 'washed', 'by', 'waves', 'and', 'cooled', 'by', 'breezes', 'which', 'a', 'few', 'hours', 'previous', 'were', 'out', 'of', 'sight', 'of', 'land', 'look', 'at', 'the', 'crowds', 'of', 'water-gazers', 'there']\n"
     ]
    }
   ],
   "source": [
    "#retrieve each word in paragraphs - split\n",
    "moby_words = moby.split()\n",
    "\n",
    "print(moby_words)"
   ]
  },
  {
   "cell_type": "code",
   "execution_count": 8,
   "metadata": {},
   "outputs": [
    {
     "data": {
      "text/plain": [
       "[('of', 4),\n",
       " ('the', 4),\n",
       " ('by', 4),\n",
       " ('is', 3),\n",
       " ('there', 2),\n",
       " ('and', 2),\n",
       " ('now', 1),\n",
       " ('your', 1),\n",
       " ('insular', 1),\n",
       " ('city', 1),\n",
       " ('manhattoes', 1),\n",
       " ('belted', 1),\n",
       " ('round', 1),\n",
       " ('wharves', 1),\n",
       " ('as', 1),\n",
       " ('indian', 1),\n",
       " ('isles', 1),\n",
       " ('coral', 1),\n",
       " ('reefs--commerce', 1),\n",
       " ('surrounds', 1),\n",
       " ('it', 1),\n",
       " ('with', 1),\n",
       " ('her', 1),\n",
       " ('surf', 1),\n",
       " ('right', 1),\n",
       " ('left', 1),\n",
       " ('streets', 1),\n",
       " ('take', 1),\n",
       " ('you', 1),\n",
       " ('waterward', 1),\n",
       " ('its', 1),\n",
       " ('extreme', 1),\n",
       " ('downtown', 1),\n",
       " ('battery', 1),\n",
       " ('where', 1),\n",
       " ('that', 1),\n",
       " ('noble', 1),\n",
       " ('mole', 1),\n",
       " ('washed', 1),\n",
       " ('waves', 1),\n",
       " ('cooled', 1),\n",
       " ('breezes', 1),\n",
       " ('which', 1),\n",
       " ('a', 1),\n",
       " ('few', 1),\n",
       " ('hours', 1),\n",
       " ('previous', 1),\n",
       " ('were', 1),\n",
       " ('out', 1),\n",
       " ('sight', 1),\n",
       " ('land', 1),\n",
       " ('look', 1),\n",
       " ('at', 1),\n",
       " ('crowds', 1),\n",
       " ('water-gazers', 1)]"
      ]
     },
     "execution_count": 8,
     "metadata": {},
     "output_type": "execute_result"
    }
   ],
   "source": [
    "# word count\n",
    "\n",
    "thedict = {}\n",
    "\n",
    "#counting the number of times each word comes up\n",
    "#in the list of words\n",
    "for key in moby_words :\n",
    "    thedict[key] = thedict.get(key,0) + 1\n",
    "    \n",
    "sorted(thedict.items(),key = lambda x: x[1], reverse = True)"
   ]
  }
 ],
 "metadata": {
  "kernelspec": {
   "display_name": "Python 3",
   "language": "python",
   "name": "python3"
  },
  "language_info": {
   "codemirror_mode": {
    "name": "ipython",
    "version": 3
   },
   "file_extension": ".py",
   "mimetype": "text/x-python",
   "name": "python",
   "nbconvert_exporter": "python",
   "pygments_lexer": "ipython3",
   "version": "3.7.4"
  }
 },
 "nbformat": 4,
 "nbformat_minor": 2
}
