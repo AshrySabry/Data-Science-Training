{
 "cells": [
  {
   "cell_type": "code",
   "execution_count": 5,
   "metadata": {},
   "outputs": [],
   "source": [
    "# set the path to the file\n",
    "path = 'data/users.txt'"
   ]
  },
  {
   "cell_type": "code",
   "execution_count": 6,
   "metadata": {},
   "outputs": [],
   "source": [
    "#open file\n",
    "f = open(path)"
   ]
  },
  {
   "cell_type": "code",
   "execution_count": 7,
   "metadata": {},
   "outputs": [
    {
     "name": "stdout",
     "output_type": "stream",
     "text": [
      "1080:Priscillia:Forbes:Shepard:Cleaning Services\n",
      "4382:Devan::Fielder:Public Relations\n",
      "6285:Grey::Collyer:Public Relations\n",
      "6201:Kierah::Battaile:Catering\n",
      "6671:Madilyn::Helling:Public Relations\n",
      "4898:Deri-J::Watherston:Research\n",
      "8954:Alec::Leng:Production\n",
      "6263:Rebbekkah::Clifford:Cleaning Services\n",
      "1704:Elorm::Lynes:Sales\n",
      "2064:Kinza:Roxanna:Farrer:Research\n",
      "4663:Zackery::Poyntz:Research\n",
      "1601:Albert:Lukas:Montgomery:Legal\n",
      "3702:Albert:Lukas:Montgomery:Sales\n",
      "4730:Nadelle::Landale:Warehousing\n",
      "4191:Cory:Diljeet:Stockill:Sales\n",
      "6119:Rhae::Forrester:Sales\n",
      "4454:Kieara::Milner:Cleaning Services\n",
      "5502:Taylore:Amellia:Granse:Cleaning Services\n",
      "7505:Tyra:Deborah:Elting:Research\n",
      "7506:Tyra:Deborah:Elting:Catering\n",
      "1183:Bridget:Beverley:Pace:Catering\n",
      "7337:Nathen::Lemerrie:Customer Service\n",
      "2462:Ashlee::Hooten:Production\n",
      "0641:Kelci-Louise::Blakey:Sales\n",
      "8866:Asir::Cowthwaite:Human Resources\n",
      "0196:Niven:Cary:Sproule:Warehousing\n",
      "0199:Niven:Cary:Sproule:Sales\n",
      "0243:Niven:Cary:Sproule:Legal\n",
      "4541:Keirien::Blenkinsop:Customer Service\n"
     ]
    }
   ],
   "source": [
    "for line in f:\n",
    "    print(line.strip())"
   ]
  },
  {
   "cell_type": "code",
   "execution_count": 9,
   "metadata": {},
   "outputs": [
    {
     "data": {
      "text/plain": [
       "['1080:Priscillia:Forbes:Shepard:Cleaning Services',\n",
       " '4382:Devan::Fielder:Public Relations',\n",
       " '6285:Grey::Collyer:Public Relations',\n",
       " '6201:Kierah::Battaile:Catering',\n",
       " '6671:Madilyn::Helling:Public Relations',\n",
       " '4898:Deri-J::Watherston:Research',\n",
       " '8954:Alec::Leng:Production',\n",
       " '6263:Rebbekkah::Clifford:Cleaning Services',\n",
       " '1704:Elorm::Lynes:Sales',\n",
       " '2064:Kinza:Roxanna:Farrer:Research',\n",
       " '4663:Zackery::Poyntz:Research',\n",
       " '1601:Albert:Lukas:Montgomery:Legal',\n",
       " '3702:Albert:Lukas:Montgomery:Sales',\n",
       " '4730:Nadelle::Landale:Warehousing',\n",
       " '4191:Cory:Diljeet:Stockill:Sales',\n",
       " '6119:Rhae::Forrester:Sales',\n",
       " '4454:Kieara::Milner:Cleaning Services',\n",
       " '5502:Taylore:Amellia:Granse:Cleaning Services',\n",
       " '7505:Tyra:Deborah:Elting:Research',\n",
       " '7506:Tyra:Deborah:Elting:Catering',\n",
       " '1183:Bridget:Beverley:Pace:Catering',\n",
       " '7337:Nathen::Lemerrie:Customer Service',\n",
       " '2462:Ashlee::Hooten:Production',\n",
       " '0641:Kelci-Louise::Blakey:Sales',\n",
       " '8866:Asir::Cowthwaite:Human Resources',\n",
       " '0196:Niven:Cary:Sproule:Warehousing',\n",
       " '0199:Niven:Cary:Sproule:Sales',\n",
       " '0243:Niven:Cary:Sproule:Legal',\n",
       " '4541:Keirien::Blenkinsop:Customer Service']"
      ]
     },
     "execution_count": 9,
     "metadata": {},
     "output_type": "execute_result"
    }
   ],
   "source": [
    "#alternative way\n",
    "lines = [x.strip() for x in open(path)]\n",
    "lines"
   ]
  },
  {
   "cell_type": "code",
   "execution_count": 15,
   "metadata": {},
   "outputs": [
    {
     "name": "stdout",
     "output_type": "stream",
     "text": [
      "['1080:Priscillia:Forbes:Shepard:Cleaning Services', '4382:Devan::Fielder:Public Relations', '6285:Grey::Collyer:Public Relations', '6201:Kierah::Battaile:Catering', '6671:Madilyn::Helling:Public Relations', '4898:Deri-J::Watherston:Research', '8954:Alec::Leng:Production', '6263:Rebbekkah::Clifford:Cleaning Services', '1704:Elorm::Lynes:Sales', '2064:Kinza:Roxanna:Farrer:Research', '4663:Zackery::Poyntz:Research', '1601:Albert:Lukas:Montgomery:Legal', '3702:Albert:Lukas:Montgomery:Sales', '4730:Nadelle::Landale:Warehousing', '4191:Cory:Diljeet:Stockill:Sales', '6119:Rhae::Forrester:Sales', '4454:Kieara::Milner:Cleaning Services', '5502:Taylore:Amellia:Granse:Cleaning Services', '7505:Tyra:Deborah:Elting:Research', '7506:Tyra:Deborah:Elting:Catering', '1183:Bridget:Beverley:Pace:Catering', '7337:Nathen::Lemerrie:Customer Service', '2462:Ashlee::Hooten:Production', '0641:Kelci-Louise::Blakey:Sales', '8866:Asir::Cowthwaite:Human Resources', '0196:Niven:Cary:Sproule:Warehousing', '0199:Niven:Cary:Sproule:Sales', '0243:Niven:Cary:Sproule:Legal', '4541:Keirien::Blenkinsop:Customer Service']\n"
     ]
    }
   ],
   "source": [
    "#alternative way 2\n",
    "\n",
    "with open(path) as f:\n",
    "    lines = [x.strip() for x in f]\n",
    "    print(lines)"
   ]
  },
  {
   "cell_type": "code",
   "execution_count": 17,
   "metadata": {},
   "outputs": [
    {
     "data": {
      "text/plain": [
       "['1080:Priscillia:Forbes:Shepard:Cleaning Services\\n',\n",
       " '4382:Devan::Fielder:Public Relations\\n',\n",
       " '6285:Grey::Collyer:Public Relations\\n',\n",
       " '6201:Kierah::Battaile:Catering\\n',\n",
       " '6671:Madilyn::Helling:Public Relations\\n',\n",
       " '4898:Deri-J::Watherston:Research\\n',\n",
       " '8954:Alec::Leng:Production\\n',\n",
       " '6263:Rebbekkah::Clifford:Cleaning Services\\n',\n",
       " '1704:Elorm::Lynes:Sales\\n',\n",
       " '2064:Kinza:Roxanna:Farrer:Research\\n',\n",
       " '4663:Zackery::Poyntz:Research\\n',\n",
       " '1601:Albert:Lukas:Montgomery:Legal\\n',\n",
       " '3702:Albert:Lukas:Montgomery:Sales\\n',\n",
       " '4730:Nadelle::Landale:Warehousing\\n',\n",
       " '4191:Cory:Diljeet:Stockill:Sales\\n',\n",
       " '6119:Rhae::Forrester:Sales\\n',\n",
       " '4454:Kieara::Milner:Cleaning Services\\n',\n",
       " '5502:Taylore:Amellia:Granse:Cleaning Services\\n',\n",
       " '7505:Tyra:Deborah:Elting:Research\\n',\n",
       " '7506:Tyra:Deborah:Elting:Catering\\n',\n",
       " '1183:Bridget:Beverley:Pace:Catering\\n',\n",
       " '7337:Nathen::Lemerrie:Customer Service\\n',\n",
       " '2462:Ashlee::Hooten:Production\\n',\n",
       " '0641:Kelci-Louise::Blakey:Sales\\n',\n",
       " '8866:Asir::Cowthwaite:Human Resources\\n',\n",
       " '0196:Niven:Cary:Sproule:Warehousing\\n',\n",
       " '0199:Niven:Cary:Sproule:Sales\\n',\n",
       " '0243:Niven:Cary:Sproule:Legal\\n',\n",
       " '4541:Keirien::Blenkinsop:Customer Service\\n']"
      ]
     },
     "execution_count": 17,
     "metadata": {},
     "output_type": "execute_result"
    }
   ],
   "source": [
    "# alternative way 3\n",
    "\n",
    "with open(path) as f:\n",
    "    lines = f.readlines()\n",
    "    \n",
    "lines"
   ]
  },
  {
   "cell_type": "code",
   "execution_count": 18,
   "metadata": {},
   "outputs": [],
   "source": [
    "#close the filehandler\n",
    "f.close()"
   ]
  }
 ],
 "metadata": {
  "kernelspec": {
   "display_name": "Python 3",
   "language": "python",
   "name": "python3"
  },
  "language_info": {
   "codemirror_mode": {
    "name": "ipython",
    "version": 3
   },
   "file_extension": ".py",
   "mimetype": "text/x-python",
   "name": "python",
   "nbconvert_exporter": "python",
   "pygments_lexer": "ipython3",
   "version": "3.7.4"
  }
 },
 "nbformat": 4,
 "nbformat_minor": 2
}
