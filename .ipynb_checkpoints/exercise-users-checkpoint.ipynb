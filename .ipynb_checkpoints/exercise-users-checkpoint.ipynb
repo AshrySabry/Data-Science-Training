{
 "cells": [
  {
   "cell_type": "code",
   "execution_count": 11,
   "metadata": {},
   "outputs": [
    {
     "ename": "SyntaxError",
     "evalue": "(unicode error) 'unicodeescape' codec can't decode bytes in position 4-5: truncated \\uXXXX escape (<ipython-input-11-85d431431a74>, line 1)",
     "output_type": "error",
     "traceback": [
      "\u001b[1;36m  File \u001b[1;32m\"<ipython-input-11-85d431431a74>\"\u001b[1;36m, line \u001b[1;32m1\u001b[0m\n\u001b[1;33m    path = 'data\\users.txt'\u001b[0m\n\u001b[1;37m          ^\u001b[0m\n\u001b[1;31mSyntaxError\u001b[0m\u001b[1;31m:\u001b[0m (unicode error) 'unicodeescape' codec can't decode bytes in position 4-5: truncated \\uXXXX escape\n"
     ]
    }
   ],
   "source": [
    "path = 'data\\users.txt'\n",
    "\n",
    "print (\"ID\".ljust(5),\"First\".ljust(15), \"Middle\".ljust(10),\"Last\".ljust(15), \"Dept\")\n",
    "#loop for employees array\n",
    "for e in employees :\n",
    "    # split the columns\n",
    "    (id, first, middle,last, dept) = e.split(\":\")\n",
    "    #print(\"{0}\\t{1}\\{2}\\{3}\\t{4}\".format(id, first, middle, last, dept))\n",
    "    print(id.ljust(5), first.ljust(15), middle.ljust(10), last.ljust(15),dept)"
   ]
  }
 ],
 "metadata": {
  "kernelspec": {
   "display_name": "Python 3",
   "language": "python",
   "name": "python3"
  },
  "language_info": {
   "codemirror_mode": {
    "name": "ipython",
    "version": 3
   },
   "file_extension": ".py",
   "mimetype": "text/x-python",
   "name": "python",
   "nbconvert_exporter": "python",
   "pygments_lexer": "ipython3",
   "version": "3.7.4"
  }
 },
 "nbformat": 4,
 "nbformat_minor": 2
}
